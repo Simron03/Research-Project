{
  "cells": [
    {
      "cell_type": "code",
      "source": [
        "import pandas as pd\n",
        "import re\n",
        "import gensim\n",
        "from nltk.tokenize.treebank import TreebankWordDetokenizer\n",
        "import numpy as np\n",
        "from sklearn.model_selection import train_test_split\n",
        "import matplotlib.pyplot as plt\n",
        "\n",
        "import tensorflow as tf \n",
        "from tensorflow import keras\n",
        "from tensorflow.keras.preprocessing.sequence import pad_sequences\n",
        "from tensorflow.keras.models import Model\n",
        "from tensorflow.keras import layers\n",
        "from tensorflow.keras.layers import Input, RepeatVector, TimeDistributed, Add, Embedding, Dense, Activation, ZeroPadding1D, LSTM, SimpleRNN, BatchNormalization, Flatten, Conv1D,Bidirectional, AveragePooling1D, MaxPooling1D, GlobalMaxPooling2D,MaxPool2D, GlobalAveragePooling1D\n",
        "from tensorflow.keras.models import Sequential, Model,load_model\n",
        "from tensorflow.keras.initializers import glorot_uniform\n",
        "from tensorflow.keras import regularizers\n"
      ],
      "metadata": {
        "id": "gr8RiNgycMiZ"
      },
      "execution_count": 1,
      "outputs": []
    },
    {
      "cell_type": "code",
      "source": [
        "# pip install -U tensorflow\n",
        "\n",
        "# !pip install -U tensorflow-addons"
      ],
      "metadata": {
        "id": "nvpFu1jT1tkh"
      },
      "execution_count": 2,
      "outputs": []
    },
    {
      "cell_type": "markdown",
      "source": [
        "Load the data into the environment"
      ],
      "metadata": {
        "id": "Fh_N4kLYXEj_"
      }
    },
    {
      "cell_type": "code",
      "source": [
        "fluoride_tweets = pd.read_csv(\"Fluride tweets.csv\")\n",
        "vaccine_tweets = pd.read_csv(\"Vaccine tweets.csv\")\n"
      ],
      "metadata": {
        "id": "LrjOtMZZLWyq"
      },
      "execution_count": 3,
      "outputs": []
    },
    {
      "cell_type": "markdown",
      "source": [
        "Convert -1,0,1 into positive, neutral, and negative lable"
      ],
      "metadata": {
        "id": "esdDNE3HXEEg"
      }
    },
    {
      "cell_type": "code",
      "source": [
        "S = []\n",
        "for i in range(len(fluoride_tweets)):\n",
        "  if fluoride_tweets[\"Sentiment\"][i] == 1:\n",
        "    sentiment = \"positive\"\n",
        "  elif fluoride_tweets[\"Sentiment\"][i] == 0:\n",
        "    sentiment = \"neutral\"\n",
        "  elif fluoride_tweets[\"Sentiment\"][i] == -1:\n",
        "    sentiment = \"negative\"\n",
        "  else:\n",
        "    sentiment = \"neutral\"\n",
        "  S.append(sentiment)\n",
        "\n",
        "fluoride_tweets[\"sentiment\"] =  S\n",
        "\n",
        "S = []\n",
        "for i in range(len(vaccine_tweets)):\n",
        "  if vaccine_tweets[\"Sentiment\"][i] == 1:\n",
        "    sentiment = \"positive\"\n",
        "  elif vaccine_tweets[\"Sentiment\"][i] == 0:\n",
        "    sentiment = \"neutral\"\n",
        "  elif vaccine_tweets[\"Sentiment\"][i] == -1:\n",
        "    sentiment = \"negative\"\n",
        "  else:\n",
        "    sentiment = \"neutral\"\n",
        "  S.append(sentiment)\n",
        "\n",
        "vaccine_tweets[\"sentiment\"] =  S"
      ],
      "metadata": {
        "id": "7NVDXFSCMV3N"
      },
      "execution_count": 4,
      "outputs": []
    },
    {
      "cell_type": "code",
      "source": [
        "fluoride_tweets.head(2)"
      ],
      "metadata": {
        "id": "JpWo3f03P_jj",
        "colab": {
          "base_uri": "https://localhost:8080/",
          "height": 208
        },
        "outputId": "241e9734-2449-4c0c-fe18-d57b6ed2459e"
      },
      "execution_count": 5,
      "outputs": [
        {
          "output_type": "execute_result",
          "data": {
            "text/plain": [
              "   Unnamed: 0         Username                   Datetime      Tweet Id  \\\n",
              "0           0  Financi43129186  2020-06-29 23:48:36+00:00  1.277750e+18   \n",
              "1           1      greenbenali  2020-06-29 23:41:03+00:00  1.277750e+18   \n",
              "\n",
              "                                                Text  Sentiment sentiment  \n",
              "0  @DoctorKarl do you have any thoughts on the fl...        0.0   neutral  \n",
              "1  @DrSextonGreen @martin_farley @TomPashby @TheG...        0.0   neutral  "
            ],
            "text/html": [
              "\n",
              "  <div id=\"df-f4303a9c-3af7-40e1-8293-594296109f59\">\n",
              "    <div class=\"colab-df-container\">\n",
              "      <div>\n",
              "<style scoped>\n",
              "    .dataframe tbody tr th:only-of-type {\n",
              "        vertical-align: middle;\n",
              "    }\n",
              "\n",
              "    .dataframe tbody tr th {\n",
              "        vertical-align: top;\n",
              "    }\n",
              "\n",
              "    .dataframe thead th {\n",
              "        text-align: right;\n",
              "    }\n",
              "</style>\n",
              "<table border=\"1\" class=\"dataframe\">\n",
              "  <thead>\n",
              "    <tr style=\"text-align: right;\">\n",
              "      <th></th>\n",
              "      <th>Unnamed: 0</th>\n",
              "      <th>Username</th>\n",
              "      <th>Datetime</th>\n",
              "      <th>Tweet Id</th>\n",
              "      <th>Text</th>\n",
              "      <th>Sentiment</th>\n",
              "      <th>sentiment</th>\n",
              "    </tr>\n",
              "  </thead>\n",
              "  <tbody>\n",
              "    <tr>\n",
              "      <th>0</th>\n",
              "      <td>0</td>\n",
              "      <td>Financi43129186</td>\n",
              "      <td>2020-06-29 23:48:36+00:00</td>\n",
              "      <td>1.277750e+18</td>\n",
              "      <td>@DoctorKarl do you have any thoughts on the fl...</td>\n",
              "      <td>0.0</td>\n",
              "      <td>neutral</td>\n",
              "    </tr>\n",
              "    <tr>\n",
              "      <th>1</th>\n",
              "      <td>1</td>\n",
              "      <td>greenbenali</td>\n",
              "      <td>2020-06-29 23:41:03+00:00</td>\n",
              "      <td>1.277750e+18</td>\n",
              "      <td>@DrSextonGreen @martin_farley @TomPashby @TheG...</td>\n",
              "      <td>0.0</td>\n",
              "      <td>neutral</td>\n",
              "    </tr>\n",
              "  </tbody>\n",
              "</table>\n",
              "</div>\n",
              "      <button class=\"colab-df-convert\" onclick=\"convertToInteractive('df-f4303a9c-3af7-40e1-8293-594296109f59')\"\n",
              "              title=\"Convert this dataframe to an interactive table.\"\n",
              "              style=\"display:none;\">\n",
              "        \n",
              "  <svg xmlns=\"http://www.w3.org/2000/svg\" height=\"24px\"viewBox=\"0 0 24 24\"\n",
              "       width=\"24px\">\n",
              "    <path d=\"M0 0h24v24H0V0z\" fill=\"none\"/>\n",
              "    <path d=\"M18.56 5.44l.94 2.06.94-2.06 2.06-.94-2.06-.94-.94-2.06-.94 2.06-2.06.94zm-11 1L8.5 8.5l.94-2.06 2.06-.94-2.06-.94L8.5 2.5l-.94 2.06-2.06.94zm10 10l.94 2.06.94-2.06 2.06-.94-2.06-.94-.94-2.06-.94 2.06-2.06.94z\"/><path d=\"M17.41 7.96l-1.37-1.37c-.4-.4-.92-.59-1.43-.59-.52 0-1.04.2-1.43.59L10.3 9.45l-7.72 7.72c-.78.78-.78 2.05 0 2.83L4 21.41c.39.39.9.59 1.41.59.51 0 1.02-.2 1.41-.59l7.78-7.78 2.81-2.81c.8-.78.8-2.07 0-2.86zM5.41 20L4 18.59l7.72-7.72 1.47 1.35L5.41 20z\"/>\n",
              "  </svg>\n",
              "      </button>\n",
              "      \n",
              "  <style>\n",
              "    .colab-df-container {\n",
              "      display:flex;\n",
              "      flex-wrap:wrap;\n",
              "      gap: 12px;\n",
              "    }\n",
              "\n",
              "    .colab-df-convert {\n",
              "      background-color: #E8F0FE;\n",
              "      border: none;\n",
              "      border-radius: 50%;\n",
              "      cursor: pointer;\n",
              "      display: none;\n",
              "      fill: #1967D2;\n",
              "      height: 32px;\n",
              "      padding: 0 0 0 0;\n",
              "      width: 32px;\n",
              "    }\n",
              "\n",
              "    .colab-df-convert:hover {\n",
              "      background-color: #E2EBFA;\n",
              "      box-shadow: 0px 1px 2px rgba(60, 64, 67, 0.3), 0px 1px 3px 1px rgba(60, 64, 67, 0.15);\n",
              "      fill: #174EA6;\n",
              "    }\n",
              "\n",
              "    [theme=dark] .colab-df-convert {\n",
              "      background-color: #3B4455;\n",
              "      fill: #D2E3FC;\n",
              "    }\n",
              "\n",
              "    [theme=dark] .colab-df-convert:hover {\n",
              "      background-color: #434B5C;\n",
              "      box-shadow: 0px 1px 3px 1px rgba(0, 0, 0, 0.15);\n",
              "      filter: drop-shadow(0px 1px 2px rgba(0, 0, 0, 0.3));\n",
              "      fill: #FFFFFF;\n",
              "    }\n",
              "  </style>\n",
              "\n",
              "      <script>\n",
              "        const buttonEl =\n",
              "          document.querySelector('#df-f4303a9c-3af7-40e1-8293-594296109f59 button.colab-df-convert');\n",
              "        buttonEl.style.display =\n",
              "          google.colab.kernel.accessAllowed ? 'block' : 'none';\n",
              "\n",
              "        async function convertToInteractive(key) {\n",
              "          const element = document.querySelector('#df-f4303a9c-3af7-40e1-8293-594296109f59');\n",
              "          const dataTable =\n",
              "            await google.colab.kernel.invokeFunction('convertToInteractive',\n",
              "                                                     [key], {});\n",
              "          if (!dataTable) return;\n",
              "\n",
              "          const docLinkHtml = 'Like what you see? Visit the ' +\n",
              "            '<a target=\"_blank\" href=https://colab.research.google.com/notebooks/data_table.ipynb>data table notebook</a>'\n",
              "            + ' to learn more about interactive tables.';\n",
              "          element.innerHTML = '';\n",
              "          dataTable['output_type'] = 'display_data';\n",
              "          await google.colab.output.renderOutput(dataTable, element);\n",
              "          const docLink = document.createElement('div');\n",
              "          docLink.innerHTML = docLinkHtml;\n",
              "          element.appendChild(docLink);\n",
              "        }\n",
              "      </script>\n",
              "    </div>\n",
              "  </div>\n",
              "  "
            ]
          },
          "metadata": {},
          "execution_count": 5
        }
      ]
    },
    {
      "cell_type": "code",
      "source": [
        "vaccine_tweets.head(2)"
      ],
      "metadata": {
        "id": "-OvMVWxmOXa4",
        "colab": {
          "base_uri": "https://localhost:8080/",
          "height": 208
        },
        "outputId": "0a74d197-7d64-4b30-f4d3-92e654c2e1f9"
      },
      "execution_count": 6,
      "outputs": [
        {
          "output_type": "execute_result",
          "data": {
            "text/plain": [
              "   Unnamed: 0      Username                   Datetime      Tweet Id  \\\n",
              "0           0  Jidgettewynn  2020-12-29 23:59:01+00:00  1.344070e+18   \n",
              "1           1   RampKingdom  2020-12-29 23:51:03+00:00  1.344070e+18   \n",
              "\n",
              "                                                Text  Sentiment sentiment  \n",
              "0  @ashishkjha @SpoxHHS On top of which if we rep...       -1.0  negative  \n",
              "1  They should put @ChickfilA in charge of vaccin...        0.0   neutral  "
            ],
            "text/html": [
              "\n",
              "  <div id=\"df-f20691d0-5a6f-4658-9fa7-89d43a602ea0\">\n",
              "    <div class=\"colab-df-container\">\n",
              "      <div>\n",
              "<style scoped>\n",
              "    .dataframe tbody tr th:only-of-type {\n",
              "        vertical-align: middle;\n",
              "    }\n",
              "\n",
              "    .dataframe tbody tr th {\n",
              "        vertical-align: top;\n",
              "    }\n",
              "\n",
              "    .dataframe thead th {\n",
              "        text-align: right;\n",
              "    }\n",
              "</style>\n",
              "<table border=\"1\" class=\"dataframe\">\n",
              "  <thead>\n",
              "    <tr style=\"text-align: right;\">\n",
              "      <th></th>\n",
              "      <th>Unnamed: 0</th>\n",
              "      <th>Username</th>\n",
              "      <th>Datetime</th>\n",
              "      <th>Tweet Id</th>\n",
              "      <th>Text</th>\n",
              "      <th>Sentiment</th>\n",
              "      <th>sentiment</th>\n",
              "    </tr>\n",
              "  </thead>\n",
              "  <tbody>\n",
              "    <tr>\n",
              "      <th>0</th>\n",
              "      <td>0</td>\n",
              "      <td>Jidgettewynn</td>\n",
              "      <td>2020-12-29 23:59:01+00:00</td>\n",
              "      <td>1.344070e+18</td>\n",
              "      <td>@ashishkjha @SpoxHHS On top of which if we rep...</td>\n",
              "      <td>-1.0</td>\n",
              "      <td>negative</td>\n",
              "    </tr>\n",
              "    <tr>\n",
              "      <th>1</th>\n",
              "      <td>1</td>\n",
              "      <td>RampKingdom</td>\n",
              "      <td>2020-12-29 23:51:03+00:00</td>\n",
              "      <td>1.344070e+18</td>\n",
              "      <td>They should put @ChickfilA in charge of vaccin...</td>\n",
              "      <td>0.0</td>\n",
              "      <td>neutral</td>\n",
              "    </tr>\n",
              "  </tbody>\n",
              "</table>\n",
              "</div>\n",
              "      <button class=\"colab-df-convert\" onclick=\"convertToInteractive('df-f20691d0-5a6f-4658-9fa7-89d43a602ea0')\"\n",
              "              title=\"Convert this dataframe to an interactive table.\"\n",
              "              style=\"display:none;\">\n",
              "        \n",
              "  <svg xmlns=\"http://www.w3.org/2000/svg\" height=\"24px\"viewBox=\"0 0 24 24\"\n",
              "       width=\"24px\">\n",
              "    <path d=\"M0 0h24v24H0V0z\" fill=\"none\"/>\n",
              "    <path d=\"M18.56 5.44l.94 2.06.94-2.06 2.06-.94-2.06-.94-.94-2.06-.94 2.06-2.06.94zm-11 1L8.5 8.5l.94-2.06 2.06-.94-2.06-.94L8.5 2.5l-.94 2.06-2.06.94zm10 10l.94 2.06.94-2.06 2.06-.94-2.06-.94-.94-2.06-.94 2.06-2.06.94z\"/><path d=\"M17.41 7.96l-1.37-1.37c-.4-.4-.92-.59-1.43-.59-.52 0-1.04.2-1.43.59L10.3 9.45l-7.72 7.72c-.78.78-.78 2.05 0 2.83L4 21.41c.39.39.9.59 1.41.59.51 0 1.02-.2 1.41-.59l7.78-7.78 2.81-2.81c.8-.78.8-2.07 0-2.86zM5.41 20L4 18.59l7.72-7.72 1.47 1.35L5.41 20z\"/>\n",
              "  </svg>\n",
              "      </button>\n",
              "      \n",
              "  <style>\n",
              "    .colab-df-container {\n",
              "      display:flex;\n",
              "      flex-wrap:wrap;\n",
              "      gap: 12px;\n",
              "    }\n",
              "\n",
              "    .colab-df-convert {\n",
              "      background-color: #E8F0FE;\n",
              "      border: none;\n",
              "      border-radius: 50%;\n",
              "      cursor: pointer;\n",
              "      display: none;\n",
              "      fill: #1967D2;\n",
              "      height: 32px;\n",
              "      padding: 0 0 0 0;\n",
              "      width: 32px;\n",
              "    }\n",
              "\n",
              "    .colab-df-convert:hover {\n",
              "      background-color: #E2EBFA;\n",
              "      box-shadow: 0px 1px 2px rgba(60, 64, 67, 0.3), 0px 1px 3px 1px rgba(60, 64, 67, 0.15);\n",
              "      fill: #174EA6;\n",
              "    }\n",
              "\n",
              "    [theme=dark] .colab-df-convert {\n",
              "      background-color: #3B4455;\n",
              "      fill: #D2E3FC;\n",
              "    }\n",
              "\n",
              "    [theme=dark] .colab-df-convert:hover {\n",
              "      background-color: #434B5C;\n",
              "      box-shadow: 0px 1px 3px 1px rgba(0, 0, 0, 0.15);\n",
              "      filter: drop-shadow(0px 1px 2px rgba(0, 0, 0, 0.3));\n",
              "      fill: #FFFFFF;\n",
              "    }\n",
              "  </style>\n",
              "\n",
              "      <script>\n",
              "        const buttonEl =\n",
              "          document.querySelector('#df-f20691d0-5a6f-4658-9fa7-89d43a602ea0 button.colab-df-convert');\n",
              "        buttonEl.style.display =\n",
              "          google.colab.kernel.accessAllowed ? 'block' : 'none';\n",
              "\n",
              "        async function convertToInteractive(key) {\n",
              "          const element = document.querySelector('#df-f20691d0-5a6f-4658-9fa7-89d43a602ea0');\n",
              "          const dataTable =\n",
              "            await google.colab.kernel.invokeFunction('convertToInteractive',\n",
              "                                                     [key], {});\n",
              "          if (!dataTable) return;\n",
              "\n",
              "          const docLinkHtml = 'Like what you see? Visit the ' +\n",
              "            '<a target=\"_blank\" href=https://colab.research.google.com/notebooks/data_table.ipynb>data table notebook</a>'\n",
              "            + ' to learn more about interactive tables.';\n",
              "          element.innerHTML = '';\n",
              "          dataTable['output_type'] = 'display_data';\n",
              "          await google.colab.output.renderOutput(dataTable, element);\n",
              "          const docLink = document.createElement('div');\n",
              "          docLink.innerHTML = docLinkHtml;\n",
              "          element.appendChild(docLink);\n",
              "        }\n",
              "      </script>\n",
              "    </div>\n",
              "  </div>\n",
              "  "
            ]
          },
          "metadata": {},
          "execution_count": 6
        }
      ]
    },
    {
      "cell_type": "code",
      "source": [
        "vaccine_tweets[\"selected_text\"] = vaccine_tweets[\"Text\"]\n",
        "fluoride_tweets[\"selected_text\"] = fluoride_tweets[\"Text\"]\n"
      ],
      "metadata": {
        "id": "fidNxz-xPz1f"
      },
      "execution_count": 7,
      "outputs": []
    },
    {
      "cell_type": "markdown",
      "source": [
        "Combine the two datasets"
      ],
      "metadata": {
        "id": "DcqYWSoIRTZa"
      }
    },
    {
      "cell_type": "code",
      "source": [
        "data1 = vaccine_tweets[['selected_text','sentiment']]\n",
        "data2 = fluoride_tweets[['selected_text','sentiment']]\n",
        "data3= data1.append(data2)\n"
      ],
      "metadata": {
        "id": "20rD0ptuUYn0"
      },
      "execution_count": 8,
      "outputs": []
    },
    {
      "cell_type": "markdown",
      "source": [
        "Check the sentiment distribution"
      ],
      "metadata": {
        "id": "e_1Y3TdZXTaq"
      }
    },
    {
      "cell_type": "code",
      "source": [
        "print(\"Total Vaccine related tweets:\", len(data1))\n",
        "#Vaccination\n",
        "print(data1.groupby(\"sentiment\").nunique())\n",
        "vaccine_df = pd.DataFrame(data1.groupby(\"sentiment\").nunique())\n",
        "vaccine_df = vaccine_df.reset_index()\n",
        "plt.bar(vaccine_df[\"sentiment\"], vaccine_df[\"selected_text\"])\n",
        "plt.xlabel(\"Sentiment\")\n",
        "plt.ylabel(\"Frequency\")\n",
        "plt.title(\"Tweets with keyword - Covid-19 vaccine \")"
      ],
      "metadata": {
        "id": "mlj6iFC8WxRk",
        "colab": {
          "base_uri": "https://localhost:8080/",
          "height": 420
        },
        "outputId": "d0d2aca0-f147-4be3-fcce-423cd86c914d"
      },
      "execution_count": 9,
      "outputs": [
        {
          "output_type": "stream",
          "name": "stdout",
          "text": [
            "Total Vaccine related tweets: 820\n",
            "           selected_text\n",
            "sentiment               \n",
            "negative             229\n",
            "neutral              372\n",
            "positive             219\n"
          ]
        },
        {
          "output_type": "execute_result",
          "data": {
            "text/plain": [
              "Text(0.5, 1.0, 'Tweets with keyword - Covid-19 vaccine ')"
            ]
          },
          "metadata": {},
          "execution_count": 9
        },
        {
          "output_type": "display_data",
          "data": {
            "text/plain": [
              "<Figure size 432x288 with 1 Axes>"
            ],
            "image/png": "[encoded data removed]"
          },
          "metadata": {
            "needs_background": "light"
          }
        }
      ]
    },
    {
      "cell_type": "code",
      "source": [
        "print(\"Total fluride related tweets:\", len(data2))\n",
        "#Fluridation\n",
        "print(data2.groupby(\"sentiment\").nunique())\n",
        "\n",
        "fluride_df = pd.DataFrame(data2.groupby(\"sentiment\").nunique())\n",
        "fluride_df = fluride_df.reset_index()\n",
        "plt.bar(fluride_df[\"sentiment\"], fluride_df[\"selected_text\"])\n",
        "plt.xlabel(\"Sentiment\")\n",
        "plt.ylabel(\"Frequency\")\n",
        "plt.title(\"Tweets with keyword - Fluoride OR Flurides OR Fluridation \")"
      ],
      "metadata": {
        "id": "-rTzW8s5W0Ex",
        "colab": {
          "base_uri": "https://localhost:8080/",
          "height": 420
        },
        "outputId": "e3242729-b82c-4192-b59d-f430f5552e98"
      },
      "execution_count": 10,
      "outputs": [
        {
          "output_type": "stream",
          "name": "stdout",
          "text": [
            "Total fluride related tweets: 804\n",
            "           selected_text\n",
            "sentiment               \n",
            "negative             315\n",
            "neutral              398\n",
            "positive              81\n"
          ]
        },
        {
          "output_type": "execute_result",
          "data": {
            "text/plain": [
              "Text(0.5, 1.0, 'Tweets with keyword - Fluoride OR Flurides OR Fluridation ')"
            ]
          },
          "metadata": {},
          "execution_count": 10
        },
        {
          "output_type": "display_data",
          "data": {
            "text/plain": [
              "<Figure size 432x288 with 1 Axes>"
            ],
            "image/png": "[encoded data removed]"
          },
          "metadata": {
            "needs_background": "light"
          }
        }
      ]
    },
    {
      "cell_type": "markdown",
      "source": [
        "Sentiment distribution overall"
      ],
      "metadata": {
        "id": "_9ktI7LORc-6"
      }
    },
    {
      "cell_type": "code",
      "source": [
        "data3.groupby(\"sentiment\").nunique()\n",
        "\n",
        "print(data3.groupby(\"sentiment\").nunique())\n",
        "\n",
        "overall_df = pd.DataFrame(data3.groupby(\"sentiment\").nunique())\n",
        "overall_df = overall_df.reset_index()\n",
        "plt.bar(overall_df[\"sentiment\"], overall_df[\"selected_text\"])\n",
        "plt.xlabel(\"Sentiment\")\n",
        "plt.ylabel(\"Frequency\")\n",
        "plt.title(\"Tweets with keyword - both fluride and covid vaccine\")"
      ],
      "metadata": {
        "id": "I2aNvZ8BVJ6i",
        "colab": {
          "base_uri": "https://localhost:8080/",
          "height": 402
        },
        "outputId": "4d940003-75ee-4ee0-f36a-88578cc54b0f"
      },
      "execution_count": 11,
      "outputs": [
        {
          "output_type": "stream",
          "name": "stdout",
          "text": [
            "           selected_text\n",
            "sentiment               \n",
            "negative             544\n",
            "neutral              770\n",
            "positive             300\n"
          ]
        },
        {
          "output_type": "execute_result",
          "data": {
            "text/plain": [
              "Text(0.5, 1.0, 'Tweets with keyword - both fluride and covid vaccine')"
            ]
          },
          "metadata": {},
          "execution_count": 11
        },
        {
          "output_type": "display_data",
          "data": {
            "text/plain": [
              "<Figure size 432x288 with 1 Axes>"
            ],
            "image/png": "[encoded data removed]"
          },
          "metadata": {
            "needs_background": "light"
          }
        }
      ]
    },
    {
      "cell_type": "markdown",
      "source": [
        "Data cleaning"
      ],
      "metadata": {
        "id": "gSdDe3EBXZ0N"
      }
    },
    {
      "cell_type": "code",
      "source": [
        "def depure_data(data):\n",
        "    \n",
        "    #Removing URLs with a regular expression\n",
        "    url_pattern = re.compile(r'https?://\\S+|www\\.\\S+')\n",
        "    data = url_pattern.sub(r'', data)\n",
        "\n",
        "    # Remove Emails\n",
        "    data = re.sub('\\S*@\\S*\\s?', '', data)\n",
        "\n",
        "    # Remove new line characters\n",
        "    data = re.sub('\\s+', ' ', data)\n",
        "\n",
        "    # Remove distracting single quotes\n",
        "    data = re.sub(\"\\'\", \"\", data)\n",
        "        \n",
        "    return data"
      ],
      "metadata": {
        "id": "xxlh-HqzqaW-"
      },
      "execution_count": 12,
      "outputs": []
    },
    {
      "cell_type": "code",
      "source": [
        "#Check null and repace NA \n",
        "data3[\"selected_text\"].isnull().sum()\n",
        "#Fill the only null value.\n",
        "data3[\"selected_text\"].fillna(\"No content\", inplace = True)"
      ],
      "metadata": {
        "id": "9TQ3hZK8sOpb"
      },
      "execution_count": 13,
      "outputs": []
    },
    {
      "cell_type": "code",
      "source": [
        "temp = []\n",
        "#Splitting pd.Series to list\n",
        "data_to_list = data3['selected_text'].values.tolist()\n",
        "for i in range(len(data_to_list)):\n",
        "    temp.append(depure_data(data_to_list[i]))\n",
        "print(list(temp[:5]))\n"
      ],
      "metadata": {
        "colab": {
          "base_uri": "https://localhost:8080/"
        },
        "id": "LqKqT93lq7gD",
        "outputId": "582fb663-63e9-4eae-91fd-45d2508cd087"
      },
      "execution_count": 14,
      "outputs": [
        {
          "output_type": "stream",
          "name": "stdout",
          "text": [
            "['On top of which if we repeat polio at 53% vaccination of total population, as the last experiment in mass vaccination, means that we will spend the next 20-40 YEARS vaccinating the next generation to get *Covid 19 under control*. Did I get that right?', 'They should put in charge of vaccination, bcz if they do it as fast as they do their drive thru we‚Äôll be out of this by March...', 'Democrats want mandatory vaccinations and require that certificates of vaccination be issued. Why not issue a Voter ID card at the same time? Oh...wait, democrats know Voter ID will prevent cheating so they‚Äôll pass on that. ', '#Covid19 Millionaire POTUS-ELECT BIDEN will immediately vaccinate 200 millon people +? Mr Biden fought for the CDC to work the distribution &amp; vaccination plans. Mr Trump had offered another distribution but acceded.', '\\uf8ffüë®\\uf8ffüèø\\uf8ffü§≥\\uf8ffüèøBe crazy if you could administer the vaccination to those already infected with the virus and, I dont know, have it heal those infected. \\uf8ffüò£\\uf8ffüò£\\uf8ffüò£ \\uf8ffüëá\\uf8ffüèø\\uf8ffüëá\\uf8ffüèø\\uf8ffüëá\\uf8ffüèø ']\n"
          ]
        }
      ]
    },
    {
      "cell_type": "code",
      "source": [
        "#Tokenize\n",
        "def sent_to_words(sentences):\n",
        "    for sentence in sentences:\n",
        "        yield(gensim.utils.simple_preprocess(str(sentence), deacc=True))  # deacc=True removes punctuations\n",
        "\n",
        "def detokenize(text):\n",
        "    return TreebankWordDetokenizer().detokenize(text)  \n"
      ],
      "metadata": {
        "id": "scCmanWyrF2M"
      },
      "execution_count": 15,
      "outputs": []
    },
    {
      "cell_type": "code",
      "source": [
        "#Tokenize\n",
        "data_words_train = list(sent_to_words(temp))\n",
        "print(data_words_train[:10])\n",
        "\n",
        "# DeTokenize \n",
        "data_train = []\n",
        "for i in range(len(data_words_train)):\n",
        "    data_train.append(detokenize(data_words_train[i]))\n",
        "print(data_train[:5])\n"
      ],
      "metadata": {
        "id": "QnIGeKg6ss6z",
        "colab": {
          "base_uri": "https://localhost:8080/"
        },
        "outputId": "65ef2f2b-781f-495e-b4a4-4ca952ad93b0"
      },
      "execution_count": 16,
      "outputs": [
        {
          "output_type": "stream",
          "name": "stdout",
          "text": [
            "[['on', 'top', 'of', 'which', 'if', 'we', 'repeat', 'polio', 'at', 'vaccination', 'of', 'total', 'population', 'as', 'the', 'last', 'experiment', 'in', 'mass', 'vaccination', 'means', 'that', 'we', 'will', 'spend', 'the', 'next', 'years', 'vaccinating', 'the', 'next', 'generation', 'to', 'get', 'covid', 'under', 'control', 'did', 'get', 'that', 'right'], ['they', 'should', 'put', 'in', 'charge', 'of', 'vaccination', 'bcz', 'if', 'they', 'do', 'it', 'as', 'fast', 'as', 'they', 'do', 'their', 'drive', 'thru', 'we', 'aoll', 'be', 'out', 'of', 'this', 'by', 'march'], ['democrats', 'want', 'mandatory', 'vaccinations', 'and', 'require', 'that', 'certificates', 'of', 'vaccination', 'be', 'issued', 'why', 'not', 'issue', 'voter', 'id', 'card', 'at', 'the', 'same', 'time', 'oh', 'wait', 'democrats', 'know', 'voter', 'id', 'will', 'prevent', 'cheating', 'so', 'they', 'aoll', 'pass', 'on', 'that'], ['covid', 'millionaire', 'potus', 'elect', 'biden', 'will', 'immediately', 'vaccinate', 'millon', 'people', 'mr', 'biden', 'fought', 'for', 'the', 'cdc', 'to', 'work', 'the', 'distribution', 'amp', 'vaccination', 'plans', 'mr', 'trump', 'had', 'offered', 'another', 'distribution', 'but', 'acceded'], ['ue', 'ueø', 'ueøbe', 'crazy', 'if', 'you', 'could', 'administer', 'the', 'vaccination', 'to', 'those', 'already', 'infected', 'with', 'the', 'virus', 'and', 'dont', 'know', 'have', 'it', 'heal', 'those', 'infected', 'uo', 'uo', 'uo', 'uea', 'ueø', 'uea', 'ueø', 'uea', 'ueø'], ['the', 'current', 'covid', 'vaccination', 'protect', 'against', 'this', 'strain', 'too'], ['justin', 'says', 'aulet', 'aos', 'be', 'clear', 'this', 'is', 'not', 'the', 'time', 'for', 'vacation', 'abroad', 'au', 'why', 'not', 'many', 'canadians', 'will', 'get', 'thier', 'vaccination', 'in', 'florida', 'or', 'arizona', 'before', 'they', 'even', 'have', 'chance', 'in', 'canada'], ['at', 'current', 'rate', 'successful', 'vaccination', 'effort', 'in', 'would', 'take', 'nearly', 'years', 'study'], ['whats', 'the', 'point', 'of', 'the', 'vaccination'], ['americans', 'love', 'interstate', 'highways', 'public', 'education', 'public', 'education', 'vaccination', 'and', 'public', 'health', 'programs', 'affordable', 'higher', 'education', 'public', 'transportation', 'national', 'parks', 'insurances', 'of', 'all', 'kinds', 'not', 'radical', 'at', 'all']]\n",
            "['on top of which if we repeat polio at vaccination of total population as the last experiment in mass vaccination means that we will spend the next years vaccinating the next generation to get covid under control did get that right', 'they should put in charge of vaccination bcz if they do it as fast as they do their drive thru we aoll be out of this by march', 'democrats want mandatory vaccinations and require that certificates of vaccination be issued why not issue voter id card at the same time oh wait democrats know voter id will prevent cheating so they aoll pass on that', 'covid millionaire potus elect biden will immediately vaccinate millon people mr biden fought for the cdc to work the distribution amp vaccination plans mr trump had offered another distribution but acceded', 'ue ueø ueøbe crazy if you could administer the vaccination to those already infected with the virus and dont know have it heal those infected uo uo uo uea ueø uea ueø uea ueø']\n"
          ]
        }
      ]
    },
    {
      "cell_type": "code",
      "source": [
        "data_train = np.array(data_train)\n",
        "(data_train.shape)"
      ],
      "metadata": {
        "id": "UuqZZxUgsyHv",
        "colab": {
          "base_uri": "https://localhost:8080/"
        },
        "outputId": "357dbcca-f981-4ddb-9bd6-7f6756b3cad0"
      },
      "execution_count": 17,
      "outputs": [
        {
          "output_type": "execute_result",
          "data": {
            "text/plain": [
              "(1624,)"
            ]
          },
          "metadata": {},
          "execution_count": 17
        }
      ]
    },
    {
      "cell_type": "markdown",
      "source": [
        "Label encoding"
      ],
      "metadata": {
        "id": "Q8QU70wEtOb4"
      }
    },
    {
      "cell_type": "code",
      "source": [
        "labels = np.array(data3['sentiment'])\n",
        "y = []\n",
        "for i in range(len(labels)):\n",
        "    if labels[i] == 'neutral': y.append(0)\n",
        "    if labels[i] == 'negative': y.append(1)\n",
        "    if labels[i] == 'positive': y.append(2)\n",
        "    if labels[i] == 'NA': y.append(0)\n",
        "y = np.array(y)\n",
        "labels_train = tf.keras.utils.to_categorical(y, 3, dtype=\"float32\")\n",
        "\n",
        "del y\n"
      ],
      "metadata": {
        "id": "bXJTHMFgtIzo"
      },
      "execution_count": 18,
      "outputs": []
    },
    {
      "cell_type": "code",
      "source": [
        "X = data_train\n",
        "Y = labels_train\n"
      ],
      "metadata": {
        "id": "NmQYSyMPaU86"
      },
      "execution_count": 19,
      "outputs": []
    },
    {
      "cell_type": "code",
      "source": [
        "X.shape, Y.shape"
      ],
      "metadata": {
        "colab": {
          "base_uri": "https://localhost:8080/"
        },
        "id": "gCp7aTmibXxb",
        "outputId": "ceb5326c-4d73-4e52-dc53-b1d178771899"
      },
      "execution_count": 20,
      "outputs": [
        {
          "output_type": "execute_result",
          "data": {
            "text/plain": [
              "((1624,), (1624, 3))"
            ]
          },
          "metadata": {},
          "execution_count": 20
        }
      ]
    },
    {
      "cell_type": "code",
      "source": [
        "X_train, X_test, y_train, y_test = train_test_split(X, Y, test_size=0.10, random_state=42)\n"
      ],
      "metadata": {
        "id": "BemqptBwa1jx"
      },
      "execution_count": 21,
      "outputs": []
    },
    {
      "cell_type": "code",
      "source": [
        "from keras.preprocessing.text import Tokenizer\n",
        "# vocab_size = 10000\n",
        "oov_token = \"<OOV>\"\n",
        "tokenizer = Tokenizer(\n",
        "    # num_words = vocab_size, \n",
        "    oov_token=oov_token)\n",
        "tokenizer.fit_on_texts(X_train)"
      ],
      "metadata": {
        "id": "hmLu6Xog3kW2"
      },
      "execution_count": 22,
      "outputs": []
    },
    {
      "cell_type": "code",
      "source": [
        "word_index = tokenizer.word_index\n",
        "\n",
        "X_train_sequences = tokenizer.texts_to_sequences(X_train)\n",
        "X_test_sequences = tokenizer.texts_to_sequences(X_test)\n",
        "\n",
        "max_length = 100\n",
        "\n",
        "padding_type='post'\n",
        "truncation_type='post'\n",
        "\n",
        "from keras.preprocessing.sequence import pad_sequences\n",
        "\n",
        "X_test_padded = pad_sequences(X_test_sequences,maxlen=max_length, \n",
        "                               padding=padding_type, truncating=truncation_type)\n",
        "\n",
        "X_train_padded = pad_sequences(X_train_sequences,maxlen=max_length, padding=padding_type, \n",
        "                       truncating=truncation_type)"
      ],
      "metadata": {
        "id": "a20JJ8Tl3oqy"
      },
      "execution_count": 23,
      "outputs": []
    },
    {
      "cell_type": "code",
      "source": [
        "len(word_index)"
      ],
      "metadata": {
        "colab": {
          "base_uri": "https://localhost:8080/"
        },
        "id": "WpdEZGDGoeEw",
        "outputId": "378be9e5-d7f3-4133-e538-57d572232d30"
      },
      "execution_count": 24,
      "outputs": [
        {
          "output_type": "execute_result",
          "data": {
            "text/plain": [
              "6477"
            ]
          },
          "metadata": {},
          "execution_count": 24
        }
      ]
    },
    {
      "cell_type": "markdown",
      "source": [
        "GLOVE embedding"
      ],
      "metadata": {
        "id": "sZWO5w0nCyJR"
      }
    },
    {
      "cell_type": "code",
      "source": [
        "!wget --no-check-certificate \\\n",
        "     http://nlp.stanford.edu/data/glove.6B.zip \\\n",
        "     -O /tmp/glove.6B.zip"
      ],
      "metadata": {
        "colab": {
          "base_uri": "https://localhost:8080/"
        },
        "id": "ACUc1XR8zXrJ",
        "outputId": "96b333b6-57b2-4994-d9ec-3fca30cf196e"
      },
      "execution_count": 25,
      "outputs": [
        {
          "output_type": "stream",
          "name": "stdout",
          "text": [
            "--2022-04-27 08:10:44--  http://nlp.stanford.edu/data/glove.6B.zip\n",
            "Resolving nlp.stanford.edu (nlp.stanford.edu)... 171.64.67.140\n",
            "Connecting to nlp.stanford.edu (nlp.stanford.edu)|171.64.67.140|:80... connected.\n",
            "HTTP request sent, awaiting response... 302 Found\n",
            "Location: https://nlp.stanford.edu/data/glove.6B.zip [following]\n",
            "--2022-04-27 08:10:44--  https://nlp.stanford.edu/data/glove.6B.zip\n",
            "Connecting to nlp.stanford.edu (nlp.stanford.edu)|171.64.67.140|:443... connected.\n",
            "HTTP request sent, awaiting response... 301 Moved Permanently\n",
            "Location: http://downloads.cs.stanford.edu/nlp/data/glove.6B.zip [following]\n",
            "--2022-04-27 08:10:45--  http://downloads.cs.stanford.edu/nlp/data/glove.6B.zip\n",
            "Resolving downloads.cs.stanford.edu (downloads.cs.stanford.edu)... 171.64.64.22\n",
            "Connecting to downloads.cs.stanford.edu (downloads.cs.stanford.edu)|171.64.64.22|:80... connected.\n",
            "HTTP request sent, awaiting response... 200 OK\n",
            "Length: 862182613 (822M) [application/zip]\n",
            "Saving to: ‘/tmp/glove.6B.zip’\n",
            "\n",
            "/tmp/glove.6B.zip   100%[===================>] 822.24M  5.22MB/s    in 2m 42s  \n",
            "\n",
            "2022-04-27 08:13:27 (5.09 MB/s) - ‘/tmp/glove.6B.zip’ saved [862182613/862182613]\n",
            "\n"
          ]
        }
      ]
    },
    {
      "cell_type": "code",
      "source": [
        "import os\n",
        "import zipfile\n",
        "with zipfile.ZipFile('/tmp/glove.6B.zip', 'r') as zip_ref:\n",
        "    zip_ref.extractall('/tmp/glove')"
      ],
      "metadata": {
        "id": "50JVSCdmzb4K"
      },
      "execution_count": 26,
      "outputs": []
    },
    {
      "cell_type": "code",
      "source": [
        "import numpy as np\n",
        "embeddings_index = {}\n",
        "f = open('/tmp/glove/glove.6B.100d.txt')\n",
        "for line in f:\n",
        "    values = line.split()\n",
        "    word = values[0]\n",
        "    coefs = np.asarray(values[1:], dtype='float32')\n",
        "    embeddings_index[word] = coefs\n",
        "f.close()\n",
        "\n",
        "print('Found %s word vectors.' % len(embeddings_index))"
      ],
      "metadata": {
        "colab": {
          "base_uri": "https://localhost:8080/"
        },
        "id": "0cGCqct70fTA",
        "outputId": "9fec1497-82a1-4762-8718-0215f293239c"
      },
      "execution_count": 27,
      "outputs": [
        {
          "output_type": "stream",
          "name": "stdout",
          "text": [
            "Found 400000 word vectors.\n"
          ]
        }
      ]
    },
    {
      "cell_type": "code",
      "source": [
        "embedding_matrix = np.zeros((len(word_index) + 1, max_length))\n",
        "for word, i in word_index.items():\n",
        "    embedding_vector = embeddings_index.get(word)\n",
        "    if embedding_vector is not None:\n",
        "        # words not found in embedding index will be all-zeros.\n",
        "        embedding_matrix[i] = embedding_vector"
      ],
      "metadata": {
        "id": "O2515kJ00xTH"
      },
      "execution_count": 28,
      "outputs": []
    },
    {
      "cell_type": "code",
      "source": [
        "len(word_index)"
      ],
      "metadata": {
        "colab": {
          "base_uri": "https://localhost:8080/"
        },
        "id": "-Nnt9LXj6KW8",
        "outputId": "27307e44-b5c6-4100-a3dd-1582be874ba1"
      },
      "execution_count": 29,
      "outputs": [
        {
          "output_type": "execute_result",
          "data": {
            "text/plain": [
              "6477"
            ]
          },
          "metadata": {},
          "execution_count": 29
        }
      ]
    },
    {
      "cell_type": "code",
      "source": [
        "embedding_layer = Embedding(input_dim=len(word_index) + 1,\n",
        "                            output_dim=max_length,\n",
        "                            weights=[embedding_matrix],\n",
        "                            input_length=max_length,\n",
        "                            trainable=False)"
      ],
      "metadata": {
        "id": "TDSiEd_z2Ep-"
      },
      "execution_count": 30,
      "outputs": []
    },
    {
      "cell_type": "markdown",
      "source": [
        "Simple RNN"
      ],
      "metadata": {
        "id": "PWE7JhN9xHYH"
      }
    },
    {
      "cell_type": "markdown",
      "source": [
        "Without GLOVE "
      ],
      "metadata": {
        "id": "-2Tip8xNwHVa"
      }
    },
    {
      "cell_type": "code",
      "source": [
        "# \n",
        "max_length = 100\n",
        "model = Sequential([\n",
        "    layers.Embedding(len(word_index), 40, input_length=max_length, \n",
        "                    embeddings_regularizer=keras.regularizers.l2(.001)),\n",
        "    # LSTM(64,activation= 'tanh', dropout=0.3, recurrent_dropout=0.2, return_sequences=True),\n",
        "\n",
        "    SimpleRNN(200, dropout=0.3, recurrent_dropout=0.2, return_sequences=True),\n",
        "    # SimpleRNN(100, return_sequences=True),\n",
        "\n",
        "    Flatten(),\n",
        "    Dense(70, activation='relu'),\n",
        "    # Dense(50, activation='relu'),\n",
        "    # Dense(10, activation='relu'),\n",
        "  \n",
        "    Dense(3, activation='softmax')\n",
        "])\n",
        "\n",
        "# model.summary()\n",
        "\n",
        "model.compile(\n",
        "    keras.optimizers.Adam(0.001),\n",
        "    loss='categorical_crossentropy',\n",
        "    metrics=['accuracy']\n",
        ")\n",
        "\n",
        "model.fit(\n",
        "    x=X_train_padded,\n",
        "    y=y_train,\n",
        "    epochs=5,\n",
        "    verbose=1,\n",
        "    validation_split = 0.20)"
      ],
      "metadata": {
        "colab": {
          "base_uri": "https://localhost:8080/"
        },
        "id": "WN6cgI7wwKkW",
        "outputId": "4a43eb6c-2dff-4519-a313-38f959c4b05c"
      },
      "execution_count": null,
      "outputs": [
        {
          "output_type": "stream",
          "name": "stdout",
          "text": [
            "Epoch 1/5\n",
            "42/42 [==============================] - 6s 127ms/step - loss: 1.2273 - accuracy: 0.4026 - val_loss: 1.1296 - val_accuracy: 0.3401\n",
            "Epoch 2/5\n",
            "42/42 [==============================] - 5s 112ms/step - loss: 1.0928 - accuracy: 0.4513 - val_loss: 1.1929 - val_accuracy: 0.4694\n",
            "Epoch 3/5\n",
            "42/42 [==============================] - 4s 106ms/step - loss: 1.1009 - accuracy: 0.4650 - val_loss: 1.0872 - val_accuracy: 0.4966\n",
            "Epoch 4/5\n",
            "42/42 [==============================] - 4s 106ms/step - loss: 1.0430 - accuracy: 0.4985 - val_loss: 1.0524 - val_accuracy: 0.4898\n",
            "Epoch 5/5\n",
            "42/42 [==============================] - 5s 109ms/step - loss: 0.9960 - accuracy: 0.5274 - val_loss: 1.1140 - val_accuracy: 0.4898\n"
          ]
        },
        {
          "output_type": "execute_result",
          "data": {
            "text/plain": [
              "<keras.callbacks.History at 0x7f80622affd0>"
            ]
          },
          "metadata": {},
          "execution_count": 44
        }
      ]
    },
    {
      "cell_type": "code",
      "source": [
        "model.evaluate(X_test_padded, y_test)"
      ],
      "metadata": {
        "colab": {
          "base_uri": "https://localhost:8080/"
        },
        "id": "6VBg8KlMxOyo",
        "outputId": "80a637ca-1463-40a2-ef2a-6f7e7e9f0e96"
      },
      "execution_count": null,
      "outputs": [
        {
          "output_type": "stream",
          "name": "stdout",
          "text": [
            "6/6 [==============================] - 0s 9ms/step - loss: 1.1788 - accuracy: 0.4601\n"
          ]
        },
        {
          "output_type": "execute_result",
          "data": {
            "text/plain": [
              "[1.1787856817245483, 0.4601227045059204]"
            ]
          },
          "metadata": {},
          "execution_count": 45
        }
      ]
    },
    {
      "cell_type": "markdown",
      "source": [
        "With Glove"
      ],
      "metadata": {
        "id": "1YYW8ffSxKp-"
      }
    },
    {
      "cell_type": "code",
      "source": [
        "# SimpleRNN(15)"
      ],
      "metadata": {
        "id": "GvrvlLgcwiXG"
      },
      "execution_count": null,
      "outputs": []
    },
    {
      "cell_type": "code",
      "source": [
        "# \n",
        "model = Sequential([\n",
        "    embedding_layer,\n",
        "    # LSTM(64,activation= 'tanh', dropout=0.3, recurrent_dropout=0.2, return_sequences=True),\n",
        "\n",
        "    SimpleRNN(200, dropout=0.3, recurrent_dropout=0.2, return_sequences=True),\n",
        "    Flatten(),\n",
        "    Dense(70, activation='relu'),\n",
        "    # Dense(50, activation='relu'),\n",
        "    # Dense(10, activation='relu'),\n",
        "  \n",
        "    Dense(3, activation='softmax')\n",
        "])\n",
        "\n",
        "model.summary()\n",
        "\n",
        "model.compile(\n",
        "    keras.optimizers.Adam(0.01),\n",
        "    loss='categorical_crossentropy',\n",
        "    metrics=['accuracy']\n",
        ")\n",
        "\n",
        "unit_history = model.fit(\n",
        "    x=X_train_padded,\n",
        "    y=y_train,\n",
        "    epochs=5,\n",
        "    verbose=1,\n",
        "    validation_split = 0.20)\n"
      ],
      "metadata": {
        "id": "qP5Po_w6xXv5",
        "colab": {
          "base_uri": "https://localhost:8080/"
        },
        "outputId": "e5f9f330-a972-430f-b564-f671be8222d1"
      },
      "execution_count": null,
      "outputs": [
        {
          "output_type": "stream",
          "name": "stdout",
          "text": [
            "Model: \"sequential_12\"\n",
            "_________________________________________________________________\n",
            " Layer (type)                Output Shape              Param #   \n",
            "=================================================================\n",
            " embedding (Embedding)       (None, 100, 100)          647800    \n",
            "                                                                 \n",
            " simple_rnn_15 (SimpleRNN)   (None, 100, 200)          60200     \n",
            "                                                                 \n",
            " flatten_12 (Flatten)        (None, 20000)             0         \n",
            "                                                                 \n",
            " dense_25 (Dense)            (None, 70)                1400070   \n",
            "                                                                 \n",
            " dense_26 (Dense)            (None, 3)                 213       \n",
            "                                                                 \n",
            "=================================================================\n",
            "Total params: 2,108,283\n",
            "Trainable params: 1,460,483\n",
            "Non-trainable params: 647,800\n",
            "_________________________________________________________________\n",
            "Epoch 1/5\n",
            "42/42 [==============================] - 5s 98ms/step - loss: 1.8233 - accuracy: 0.4566 - val_loss: 1.0521 - val_accuracy: 0.4898\n",
            "Epoch 2/5\n",
            "42/42 [==============================] - 4s 92ms/step - loss: 1.0392 - accuracy: 0.4779 - val_loss: 1.0257 - val_accuracy: 0.4898\n",
            "Epoch 3/5\n",
            "42/42 [==============================] - 4s 92ms/step - loss: 1.0687 - accuracy: 0.4779 - val_loss: 1.0211 - val_accuracy: 0.4898\n",
            "Epoch 4/5\n",
            "42/42 [==============================] - 4s 92ms/step - loss: 13.8287 - accuracy: 0.3995 - val_loss: 9.1472 - val_accuracy: 0.2789\n",
            "Epoch 5/5\n",
            "42/42 [==============================] - 4s 91ms/step - loss: 18.0118 - accuracy: 0.4026 - val_loss: 9.6958 - val_accuracy: 0.3810\n"
          ]
        }
      ]
    },
    {
      "cell_type": "code",
      "source": [
        "model.evaluate(X_test_padded, y_test)"
      ],
      "metadata": {
        "colab": {
          "base_uri": "https://localhost:8080/"
        },
        "id": "gq-Y-z1sxX_y",
        "outputId": "3a1970c6-f631-4b66-b91d-d6ee0a84f367"
      },
      "execution_count": null,
      "outputs": [
        {
          "output_type": "stream",
          "name": "stdout",
          "text": [
            "6/6 [==============================] - 0s 9ms/step - loss: 3.7063 - accuracy: 0.3926\n"
          ]
        },
        {
          "output_type": "execute_result",
          "data": {
            "text/plain": [
              "[3.7063324451446533, 0.39263802766799927]"
            ]
          },
          "metadata": {},
          "execution_count": 48
        }
      ]
    },
    {
      "cell_type": "markdown",
      "source": [
        "LSTM"
      ],
      "metadata": {
        "id": "_Fl8JWmoYwGM"
      }
    },
    {
      "cell_type": "markdown",
      "source": [
        "Without Glove"
      ],
      "metadata": {
        "id": "V_qZcs_4x85p"
      }
    },
    {
      "cell_type": "code",
      "source": [
        "max_length = 100\n",
        "model = Sequential([    \n",
        "    layers.Embedding(len(word_index), 40, input_length=max_length, \n",
        "                    embeddings_regularizer=keras.regularizers.l2(.001)),\n",
        "    LSTM(64,activation= 'tanh', dropout=0.3, recurrent_dropout=0.2, return_sequences=True), \n",
        "    # LSTM(64,activation= 'tanh', dropout=0.3, recurrent_dropout=0.2, return_sequences=True),\n",
        "    # LSTM(32,activation= 'tanh', dropout=0.3, recurrent_dropout=0.2, return_sequences=True),\n",
        "    Flatten(),\n",
        "    Dense(70, activation='relu'),\n",
        "    # Dense(50, activation='relu'),\n",
        "    # Dense(10, activation='relu'),\n",
        "  \n",
        "    Dense(3, activation='softmax')\n",
        "])\n",
        "\n",
        "model.summary()\n",
        "\n",
        "model.compile(\n",
        "    keras.optimizers.RMSprop(0.001),\n",
        "    loss='categorical_crossentropy',\n",
        "    metrics=['accuracy']\n",
        ")\n",
        "\n",
        "model.fit(\n",
        "    x=X_train_padded,\n",
        "    y=y_train,\n",
        "    epochs=5,\n",
        "    verbose=1,\n",
        "    validation_split = 0.20)"
      ],
      "metadata": {
        "colab": {
          "base_uri": "https://localhost:8080/"
        },
        "id": "Nu4wZZ9FyFoi",
        "outputId": "8c6f892d-3d74-4b31-b629-7a4cc6e2db03"
      },
      "execution_count": 78,
      "outputs": [
        {
          "output_type": "stream",
          "name": "stdout",
          "text": [
            "WARNING:tensorflow:Layer lstm_12 will not use cuDNN kernels since it doesn't meet the criteria. It will use a generic GPU kernel as fallback when running on GPU.\n",
            "Model: \"sequential_23\"\n",
            "_________________________________________________________________\n",
            " Layer (type)                Output Shape              Param #   \n",
            "=================================================================\n",
            " embedding_20 (Embedding)    (None, 100, 40)           259080    \n",
            "                                                                 \n",
            " lstm_12 (LSTM)              (None, 100, 64)           26880     \n",
            "                                                                 \n",
            " flatten_28 (Flatten)        (None, 6400)              0         \n",
            "                                                                 \n",
            " dense_59 (Dense)            (None, 70)                448070    \n",
            "                                                                 \n",
            " dense_60 (Dense)            (None, 3)                 213       \n",
            "                                                                 \n",
            "=================================================================\n",
            "Total params: 734,243\n",
            "Trainable params: 734,243\n",
            "Non-trainable params: 0\n",
            "_________________________________________________________________\n",
            "Epoch 1/5\n",
            "37/37 [==============================] - 15s 346ms/step - loss: 1.0892 - accuracy: 0.4949 - val_loss: 1.0272 - val_accuracy: 0.5051\n",
            "Epoch 2/5\n",
            "37/37 [==============================] - 12s 333ms/step - loss: 0.9542 - accuracy: 0.5634 - val_loss: 1.0305 - val_accuracy: 0.5154\n",
            "Epoch 3/5\n",
            "37/37 [==============================] - 12s 331ms/step - loss: 0.7899 - accuracy: 0.6687 - val_loss: 0.9975 - val_accuracy: 0.5427\n",
            "Epoch 4/5\n",
            "37/37 [==============================] - 12s 332ms/step - loss: 0.6115 - accuracy: 0.7680 - val_loss: 1.0829 - val_accuracy: 0.5836\n",
            "Epoch 5/5\n",
            "37/37 [==============================] - 12s 329ms/step - loss: 0.4463 - accuracy: 0.8399 - val_loss: 1.0870 - val_accuracy: 0.5836\n"
          ]
        },
        {
          "output_type": "execute_result",
          "data": {
            "text/plain": [
              "<keras.callbacks.History at 0x7f805aa4c190>"
            ]
          },
          "metadata": {},
          "execution_count": 78
        }
      ]
    },
    {
      "cell_type": "code",
      "source": [
        "model.evaluate(X_test_padded, y_test)"
      ],
      "metadata": {
        "colab": {
          "base_uri": "https://localhost:8080/"
        },
        "id": "-nGDsqYoySjq",
        "outputId": "47533527-89d0-4ce9-a33e-bb57f6f3a1b5"
      },
      "execution_count": 79,
      "outputs": [
        {
          "output_type": "stream",
          "name": "stdout",
          "text": [
            "6/6 [==============================] - 0s 27ms/step - loss: 1.1785 - accuracy: 0.5767\n"
          ]
        },
        {
          "output_type": "execute_result",
          "data": {
            "text/plain": [
              "[1.1784660816192627, 0.5766870975494385]"
            ]
          },
          "metadata": {},
          "execution_count": 79
        }
      ]
    },
    {
      "cell_type": "markdown",
      "source": [
        "With Glove"
      ],
      "metadata": {
        "id": "3dqsirPKyLmU"
      }
    },
    {
      "cell_type": "code",
      "source": [
        "\n",
        "model = Sequential([\n",
        "    embedding_layer,\n",
        "    LSTM(64,activation= 'tanh', dropout=0.3, recurrent_dropout=0.2, return_sequences=True), \n",
        "    # LSTM(64,activation= 'tanh', dropout=0.3, recurrent_dropout=0.2, return_sequences=True),\n",
        "    # LSTM(32,activation= 'tanh', dropout=0.3, recurrent_dropout=0.2, return_sequences=True),\n",
        "    Flatten(),\n",
        "    Dense(70, activation='relu'),\n",
        "    # Dense(50, activation='relu'),\n",
        "    # Dense(10, activation='relu'),\n",
        "  \n",
        "    Dense(3, activation='softmax')\n",
        "])\n",
        "\n",
        "model.summary()\n",
        "\n",
        "model.compile(\n",
        "    keras.optimizers.RMSprop(0.001),\n",
        "    loss='categorical_crossentropy',\n",
        "    metrics=['accuracy']\n",
        ")\n",
        "\n",
        "unit_history = model.fit(\n",
        "    x=X_train_padded,\n",
        "    y=y_train,\n",
        "    epochs=5,\n",
        "    verbose=1,\n",
        "    validation_split = 0.20)\n"
      ],
      "metadata": {
        "colab": {
          "base_uri": "https://localhost:8080/"
        },
        "id": "1PKsdoqd2II6",
        "outputId": "4c38c5e7-1a47-487f-b38e-04fd75c181ae"
      },
      "execution_count": 80,
      "outputs": [
        {
          "output_type": "stream",
          "name": "stdout",
          "text": [
            "WARNING:tensorflow:Layer lstm_13 will not use cuDNN kernels since it doesn't meet the criteria. It will use a generic GPU kernel as fallback when running on GPU.\n",
            "Model: \"sequential_24\"\n",
            "_________________________________________________________________\n",
            " Layer (type)                Output Shape              Param #   \n",
            "=================================================================\n",
            " embedding (Embedding)       (None, 100, 100)          647800    \n",
            "                                                                 \n",
            " lstm_13 (LSTM)              (None, 100, 64)           42240     \n",
            "                                                                 \n",
            " flatten_29 (Flatten)        (None, 6400)              0         \n",
            "                                                                 \n",
            " dense_61 (Dense)            (None, 70)                448070    \n",
            "                                                                 \n",
            " dense_62 (Dense)            (None, 3)                 213       \n",
            "                                                                 \n",
            "=================================================================\n",
            "Total params: 1,138,323\n",
            "Trainable params: 490,523\n",
            "Non-trainable params: 647,800\n",
            "_________________________________________________________________\n",
            "Epoch 1/5\n",
            "37/37 [==============================] - 13s 307ms/step - loss: 1.0362 - accuracy: 0.5111 - val_loss: 0.9685 - val_accuracy: 0.5188\n",
            "Epoch 2/5\n",
            "37/37 [==============================] - 11s 296ms/step - loss: 0.9022 - accuracy: 0.5753 - val_loss: 0.9650 - val_accuracy: 0.5119\n",
            "Epoch 3/5\n",
            "37/37 [==============================] - 11s 297ms/step - loss: 0.8392 - accuracy: 0.6173 - val_loss: 1.0725 - val_accuracy: 0.5290\n",
            "Epoch 4/5\n",
            "37/37 [==============================] - 11s 297ms/step - loss: 0.7503 - accuracy: 0.6652 - val_loss: 1.0411 - val_accuracy: 0.5188\n",
            "Epoch 5/5\n",
            "37/37 [==============================] - 11s 297ms/step - loss: 0.7014 - accuracy: 0.6909 - val_loss: 1.0345 - val_accuracy: 0.5188\n"
          ]
        }
      ]
    },
    {
      "cell_type": "code",
      "source": [
        "model.evaluate(X_test_padded, y_test)"
      ],
      "metadata": {
        "colab": {
          "base_uri": "https://localhost:8080/"
        },
        "id": "L9_j6CjknJnB",
        "outputId": "91fd3cc3-5626-4833-864b-78182203233a"
      },
      "execution_count": 81,
      "outputs": [
        {
          "output_type": "stream",
          "name": "stdout",
          "text": [
            "6/6 [==============================] - 0s 26ms/step - loss: 0.9951 - accuracy: 0.5399\n"
          ]
        },
        {
          "output_type": "execute_result",
          "data": {
            "text/plain": [
              "[0.9951277375221252, 0.5398772954940796]"
            ]
          },
          "metadata": {},
          "execution_count": 81
        }
      ]
    },
    {
      "cell_type": "markdown",
      "source": [
        "Conv1D"
      ],
      "metadata": {
        "id": "NjiwIdD1X5oo"
      }
    },
    {
      "cell_type": "markdown",
      "source": [
        "Without Glove"
      ],
      "metadata": {
        "id": "-NpPyiQvywy3"
      }
    },
    {
      "cell_type": "code",
      "source": [
        "max_length = 100\n",
        "sequence_input = Input(shape=(max_length,))\n",
        "embedded_sequences = layers.Embedding(len(word_index), 40, input_length=max_length, \n",
        "                    embeddings_regularizer=keras.regularizers.l2(.001))(sequence_input)\n",
        "x = Conv1D(64, 5, activation='relu')(embedded_sequences)\n",
        "x = MaxPooling1D(5)(x)\n",
        "# x = Conv1D(128, 5, activation='relu')(x)\n",
        "# x = MaxPooling1D(5)(x)\n",
        "# x = Conv1D(64, 5, activation='relu')(x)\n",
        "# x = MaxPooling1D(35)(x)  # global max pooling\n",
        "x = Flatten()(x)\n",
        "\n",
        "x = Dense(70, activation='relu')(x)\n",
        "\n",
        "preds = Dense(3, activation='softmax')(x)\n",
        "\n",
        "model = Model(sequence_input, preds)\n",
        "\n",
        "model.compile(keras.optimizers.Adam(0.001),\n",
        "              loss='categorical_crossentropy',\n",
        "              # optimizer='rmsprop',\n",
        "              metrics=['acc'])\n",
        "\n",
        "# happy learning!\n",
        "model.fit(X_train_padded, y_train, validation_split = 0.20,\n",
        "          epochs=5)\n"
      ],
      "metadata": {
        "colab": {
          "base_uri": "https://localhost:8080/"
        },
        "id": "bYp6214fzXke",
        "outputId": "ce0c19fd-a43c-4880-f151-06d0c7d47847"
      },
      "execution_count": 69,
      "outputs": [
        {
          "output_type": "stream",
          "name": "stdout",
          "text": [
            "Epoch 1/5\n",
            "37/37 [==============================] - 1s 8ms/step - loss: 1.1321 - acc: 0.4743 - val_loss: 1.0379 - val_acc: 0.4983\n",
            "Epoch 2/5\n",
            "37/37 [==============================] - 0s 4ms/step - loss: 0.9991 - acc: 0.5420 - val_loss: 1.0042 - val_acc: 0.5119\n",
            "Epoch 3/5\n",
            "37/37 [==============================] - 0s 4ms/step - loss: 0.8757 - acc: 0.6370 - val_loss: 0.9973 - val_acc: 0.5495\n",
            "Epoch 4/5\n",
            "37/37 [==============================] - 0s 4ms/step - loss: 0.6726 - acc: 0.7406 - val_loss: 1.1208 - val_acc: 0.5256\n",
            "Epoch 5/5\n",
            "37/37 [==============================] - 0s 4ms/step - loss: 0.4209 - acc: 0.8759 - val_loss: 1.3310 - val_acc: 0.4983\n"
          ]
        },
        {
          "output_type": "execute_result",
          "data": {
            "text/plain": [
              "<keras.callbacks.History at 0x7f8065f03510>"
            ]
          },
          "metadata": {},
          "execution_count": 69
        }
      ]
    },
    {
      "cell_type": "code",
      "source": [
        "model.evaluate(X_test_padded, y_test)"
      ],
      "metadata": {
        "colab": {
          "base_uri": "https://localhost:8080/"
        },
        "id": "pbIerFd0NOVj",
        "outputId": "fc3f2a17-a02a-4b56-9f82-4e571aa2806f"
      },
      "execution_count": 70,
      "outputs": [
        {
          "output_type": "stream",
          "name": "stdout",
          "text": [
            "6/6 [==============================] - 0s 3ms/step - loss: 1.1935 - acc: 0.5399\n"
          ]
        },
        {
          "output_type": "execute_result",
          "data": {
            "text/plain": [
              "[1.193495750427246, 0.5398772954940796]"
            ]
          },
          "metadata": {},
          "execution_count": 70
        }
      ]
    },
    {
      "cell_type": "markdown",
      "source": [
        "With Glove"
      ],
      "metadata": {
        "id": "GnG0l8tMzYNv"
      }
    },
    {
      "cell_type": "code",
      "source": [
        "# # exponential_decay_fn\n",
        "# def lr_exp_decay(epoch):\n",
        "#   initial_lr = 0.01\n",
        "#   drop_rate = 0.01\n",
        "#   epochs_drop = 20\n",
        "#   return initial_lr * math.pow(drop_rate, math.floor(epoch/epochs_drop))"
      ],
      "metadata": {
        "id": "6ORe2_ZeDBjq"
      },
      "execution_count": 71,
      "outputs": []
    },
    {
      "cell_type": "code",
      "source": [
        "sequence_input = Input(shape=(max_length,))\n",
        "embedded_sequences = embedding_layer(sequence_input)\n",
        "x = Conv1D(64, 5, activation='relu')(embedded_sequences)\n",
        "x = MaxPooling1D()(x)\n",
        "# x = Conv1D(128, 5, activation='relu')(x)\n",
        "# x = MaxPooling1D(5)(x)\n",
        "# x = Conv1D(64, 5, activation='relu')(x)\n",
        "# x = MaxPooling1D(35)(x)  # global max pooling\n",
        "x = Flatten()(x)\n",
        "\n",
        "x = Dense(70, activation='relu')(x)\n",
        "\n",
        "preds = Dense(3, activation='softmax')(x)\n",
        "\n",
        "model = Model(sequence_input, preds)\n",
        "\n",
        "model.compile(keras.optimizers.Adam(0.001),\n",
        "              loss='categorical_crossentropy',\n",
        "              # optimizer='rmsprop',\n",
        "              metrics=['acc'])\n",
        "\n",
        "# happy learning!\n",
        "model.fit(X_train_padded, y_train, validation_split = 0.20,\n",
        "          epochs=5)\n"
      ],
      "metadata": {
        "colab": {
          "base_uri": "https://localhost:8080/"
        },
        "id": "yQ3KaJxRX4a7",
        "outputId": "4e2dcb9b-5260-4f37-f8b5-df4f9d62d09d"
      },
      "execution_count": 72,
      "outputs": [
        {
          "output_type": "stream",
          "name": "stdout",
          "text": [
            "Epoch 1/5\n",
            "37/37 [==============================] - 1s 7ms/step - loss: 1.0295 - acc: 0.4940 - val_loss: 0.9480 - val_acc: 0.5495\n",
            "Epoch 2/5\n",
            "37/37 [==============================] - 0s 4ms/step - loss: 0.8712 - acc: 0.6113 - val_loss: 0.9410 - val_acc: 0.5495\n",
            "Epoch 3/5\n",
            "37/37 [==============================] - 0s 4ms/step - loss: 0.7315 - acc: 0.6961 - val_loss: 1.0427 - val_acc: 0.5256\n",
            "Epoch 4/5\n",
            "37/37 [==============================] - 0s 4ms/step - loss: 0.5539 - acc: 0.8065 - val_loss: 1.0618 - val_acc: 0.4915\n",
            "Epoch 5/5\n",
            "37/37 [==============================] - 0s 4ms/step - loss: 0.3403 - acc: 0.9015 - val_loss: 1.1626 - val_acc: 0.5358\n"
          ]
        },
        {
          "output_type": "execute_result",
          "data": {
            "text/plain": [
              "<keras.callbacks.History at 0x7f8065c19990>"
            ]
          },
          "metadata": {},
          "execution_count": 72
        }
      ]
    },
    {
      "cell_type": "code",
      "source": [
        "model.evaluate(X_test_padded, y_test)"
      ],
      "metadata": {
        "colab": {
          "base_uri": "https://localhost:8080/"
        },
        "id": "TQ2jDO56dB9L",
        "outputId": "15729a3d-dcad-4a75-d4e1-4962587ce8a1"
      },
      "execution_count": 73,
      "outputs": [
        {
          "output_type": "stream",
          "name": "stdout",
          "text": [
            "6/6 [==============================] - 0s 3ms/step - loss: 1.0700 - acc: 0.5521\n"
          ]
        },
        {
          "output_type": "execute_result",
          "data": {
            "text/plain": [
              "[1.0700405836105347, 0.5521472096443176]"
            ]
          },
          "metadata": {},
          "execution_count": 73
        }
      ]
    },
    {
      "cell_type": "markdown",
      "source": [
        "# Simple Bidirectional LSTM"
      ],
      "metadata": {
        "id": "veUzS7T8wgpv"
      }
    },
    {
      "cell_type": "markdown",
      "source": [
        "Without Glove"
      ],
      "metadata": {
        "id": "3CtAPTcx0eTv"
      }
    },
    {
      "cell_type": "code",
      "source": [
        "model = Sequential([\n",
        "    layers.Embedding(len(word_index), 40, input_length=max_length, \n",
        "                    embeddings_regularizer=keras.regularizers.l2(.001)),\n",
        "    Bidirectional(LSTM(64,activation= 'tanh', dropout=0.3, recurrent_dropout=0.2, return_sequences=True)), \n",
        "    # LSTM(64,activation= 'tanh', dropout=0.3, recurrent_dropout=0.2, return_sequences=True),\n",
        "    # LSTM(32,activation= 'tanh', dropout=0.3, recurrent_dropout=0.2, return_sequences=True),\n",
        "    Flatten(),\n",
        "    Dense(70, activation='relu'),\n",
        "    # Dense(50, activation='relu'),\n",
        "    # Dense(10, activation='relu'),\n",
        "  \n",
        "    Dense(3, activation='softmax')\n",
        "])\n",
        "\n",
        "\n",
        "model.compile(\n",
        "    optimizer='adam',\n",
        "    loss='categorical_crossentropy',\n",
        "    metrics=['accuracy']\n",
        ")\n",
        "\n",
        "model.fit(\n",
        "    x=X_train_padded,\n",
        "    y=y_train,\n",
        "    epochs=5,\n",
        "    verbose=1,\n",
        "    validation_split = 0.20)\n",
        "\n",
        "\n"
      ],
      "metadata": {
        "colab": {
          "base_uri": "https://localhost:8080/"
        },
        "id": "uI39Zo_G0w-_",
        "outputId": "45af046a-418d-4fd4-887d-2ba32c40bdd4"
      },
      "execution_count": 65,
      "outputs": [
        {
          "output_type": "stream",
          "name": "stdout",
          "text": [
            "WARNING:tensorflow:Layer lstm_8 will not use cuDNN kernels since it doesn't meet the criteria. It will use a generic GPU kernel as fallback when running on GPU.\n",
            "WARNING:tensorflow:Layer lstm_8 will not use cuDNN kernels since it doesn't meet the criteria. It will use a generic GPU kernel as fallback when running on GPU.\n",
            "WARNING:tensorflow:Layer lstm_8 will not use cuDNN kernels since it doesn't meet the criteria. It will use a generic GPU kernel as fallback when running on GPU.\n",
            "Epoch 1/5\n",
            "37/37 [==============================] - 29s 642ms/step - loss: 1.1134 - accuracy: 0.4854 - val_loss: 1.0215 - val_accuracy: 0.5017\n",
            "Epoch 2/5\n",
            "37/37 [==============================] - 23s 627ms/step - loss: 0.9541 - accuracy: 0.5471 - val_loss: 0.9750 - val_accuracy: 0.5529\n",
            "Epoch 3/5\n",
            "37/37 [==============================] - 23s 625ms/step - loss: 0.6708 - accuracy: 0.7449 - val_loss: 1.1042 - val_accuracy: 0.5085\n",
            "Epoch 4/5\n",
            "37/37 [==============================] - 23s 627ms/step - loss: 0.2985 - accuracy: 0.9092 - val_loss: 1.4696 - val_accuracy: 0.5017\n",
            "Epoch 5/5\n",
            "37/37 [==============================] - 23s 628ms/step - loss: 0.1567 - accuracy: 0.9683 - val_loss: 1.7620 - val_accuracy: 0.5290\n"
          ]
        },
        {
          "output_type": "execute_result",
          "data": {
            "text/plain": [
              "<keras.callbacks.History at 0x7f804c095fd0>"
            ]
          },
          "metadata": {},
          "execution_count": 65
        }
      ]
    },
    {
      "cell_type": "code",
      "source": [
        "model.evaluate(X_test_padded, y_test)"
      ],
      "metadata": {
        "colab": {
          "base_uri": "https://localhost:8080/"
        },
        "id": "G26VPfNB1DUV",
        "outputId": "5233c8db-1447-4036-eecb-c7fffc088f25"
      },
      "execution_count": 66,
      "outputs": [
        {
          "output_type": "stream",
          "name": "stdout",
          "text": [
            "6/6 [==============================] - 0s 50ms/step - loss: 1.7135 - accuracy: 0.5521\n"
          ]
        },
        {
          "output_type": "execute_result",
          "data": {
            "text/plain": [
              "[1.7135170698165894, 0.5521472096443176]"
            ]
          },
          "metadata": {},
          "execution_count": 66
        }
      ]
    },
    {
      "cell_type": "markdown",
      "source": [
        "With Glove"
      ],
      "metadata": {
        "id": "oJQFjJfd1Drs"
      }
    },
    {
      "cell_type": "code",
      "source": [
        "model = Sequential([\n",
        "    embedding_layer,\n",
        "    Bidirectional(LSTM(64,activation= 'tanh', dropout=0.3, recurrent_dropout=0.2, return_sequences=True)), \n",
        "    # LSTM(64,activation= 'tanh', dropout=0.3, recurrent_dropout=0.2, return_sequences=True),\n",
        "    # LSTM(32,activation= 'tanh', dropout=0.3, recurrent_dropout=0.2, return_sequences=True),\n",
        "    Flatten(),\n",
        "    Dense(70, activation='relu'),\n",
        "    # Dense(50, activation='relu'),\n",
        "    # Dense(10, activation='relu'),\n",
        "  \n",
        "    Dense(3, activation='softmax')\n",
        "])\n",
        "\n",
        "model.summary()\n",
        "\n",
        "model.compile(\n",
        "    optimizer='adam',\n",
        "    loss='categorical_crossentropy',\n",
        "    metrics=['accuracy']\n",
        ")\n",
        "\n",
        "unit_history = model.fit(\n",
        "    x=X_train_padded,\n",
        "    y=y_train,\n",
        "    epochs=5,\n",
        "    verbose=1,\n",
        "    validation_split = 0.10)\n",
        "\n"
      ],
      "metadata": {
        "colab": {
          "base_uri": "https://localhost:8080/"
        },
        "id": "i4dcUB17wiMi",
        "outputId": "27342c2b-6832-4e60-cca8-2a944a0de5aa"
      },
      "execution_count": 67,
      "outputs": [
        {
          "output_type": "stream",
          "name": "stdout",
          "text": [
            "WARNING:tensorflow:Layer lstm_9 will not use cuDNN kernels since it doesn't meet the criteria. It will use a generic GPU kernel as fallback when running on GPU.\n",
            "WARNING:tensorflow:Layer lstm_9 will not use cuDNN kernels since it doesn't meet the criteria. It will use a generic GPU kernel as fallback when running on GPU.\n",
            "WARNING:tensorflow:Layer lstm_9 will not use cuDNN kernels since it doesn't meet the criteria. It will use a generic GPU kernel as fallback when running on GPU.\n",
            "Model: \"sequential_20\"\n",
            "_________________________________________________________________\n",
            " Layer (type)                Output Shape              Param #   \n",
            "=================================================================\n",
            " embedding (Embedding)       (None, 100, 100)          647800    \n",
            "                                                                 \n",
            " bidirectional_4 (Bidirectio  (None, 100, 128)         84480     \n",
            " nal)                                                            \n",
            "                                                                 \n",
            " flatten_23 (Flatten)        (None, 12800)             0         \n",
            "                                                                 \n",
            " dense_49 (Dense)            (None, 70)                896070    \n",
            "                                                                 \n",
            " dense_50 (Dense)            (None, 3)                 213       \n",
            "                                                                 \n",
            "=================================================================\n",
            "Total params: 1,628,563\n",
            "Trainable params: 980,763\n",
            "Non-trainable params: 647,800\n",
            "_________________________________________________________________\n",
            "Epoch 1/5\n",
            "42/42 [==============================] - 29s 588ms/step - loss: 1.0120 - accuracy: 0.4992 - val_loss: 1.0040 - val_accuracy: 0.5306\n",
            "Epoch 2/5\n",
            "42/42 [==============================] - 24s 574ms/step - loss: 0.8708 - accuracy: 0.5860 - val_loss: 0.9790 - val_accuracy: 0.5170\n",
            "Epoch 3/5\n",
            "42/42 [==============================] - 24s 572ms/step - loss: 0.7966 - accuracy: 0.6355 - val_loss: 0.9413 - val_accuracy: 0.5238\n",
            "Epoch 4/5\n",
            "42/42 [==============================] - 24s 569ms/step - loss: 0.6962 - accuracy: 0.6994 - val_loss: 1.0119 - val_accuracy: 0.5102\n",
            "Epoch 5/5\n",
            "42/42 [==============================] - 24s 578ms/step - loss: 0.6189 - accuracy: 0.7382 - val_loss: 1.1271 - val_accuracy: 0.5170\n"
          ]
        }
      ]
    },
    {
      "cell_type": "code",
      "source": [
        "model.evaluate(X_test_padded, y_test)"
      ],
      "metadata": {
        "colab": {
          "base_uri": "https://localhost:8080/"
        },
        "id": "pcNUvWYGxxHZ",
        "outputId": "73f0a2df-7bdd-4f98-ce0d-7082d7f39b2a"
      },
      "execution_count": 68,
      "outputs": [
        {
          "output_type": "stream",
          "name": "stdout",
          "text": [
            "6/6 [==============================] - 0s 51ms/step - loss: 0.9374 - accuracy: 0.6135\n"
          ]
        },
        {
          "output_type": "execute_result",
          "data": {
            "text/plain": [
              "[0.9374434351921082, 0.6134969592094421]"
            ]
          },
          "metadata": {},
          "execution_count": 68
        }
      ]
    },
    {
      "cell_type": "markdown",
      "source": [
        "LSTM + Conv1D"
      ],
      "metadata": {
        "id": "n9MYA6hNgEW7"
      }
    },
    {
      "cell_type": "code",
      "source": [
        "sequence_input = Input(shape=(max_length,))\n",
        "embedded_sequences = embedding_layer(sequence_input)\n",
        "x = Conv1D(64, 5, activation='relu')(embedded_sequences)\n",
        "x = Bidirectional(LSTM(64,activation= 'tanh', dropout=0.3, recurrent_dropout=0.2, return_sequences=True))(x)\n",
        "x = LSTM(64,activation= 'tanh', dropout=0.3, recurrent_dropout=0.2, return_sequences=True)(x)\n",
        "x = MaxPooling1D()(x)\n",
        "x = Conv1D(64, 5, activation='relu')(x)\n",
        "x = MaxPooling1D()(x)\n",
        "x = Conv1D(64, 5, activation='relu')(x)\n",
        "x = MaxPooling1D()(x)  # global max pooling\n",
        "x = Flatten()(x)\n",
        "x = Dense(64, activation='relu')(x)\n",
        "preds = Dense(3, activation='softmax')(x)\n",
        "\n",
        "model = Model(sequence_input, preds)\n",
        "\n",
        "model.compile(loss='categorical_crossentropy',\n",
        "              optimizer='adam',\n",
        "              metrics=['accuracy'])\n",
        "\n",
        "\n",
        "model.fit(X_train_padded, y_train, validation_split = 0.20,\n",
        "          epochs=5)\n"
      ],
      "metadata": {
        "id": "14OviAb7DXEV",
        "colab": {
          "base_uri": "https://localhost:8080/"
        },
        "outputId": "7d0119e4-bae7-496e-b4a1-dbbc6854f8df"
      },
      "execution_count": 88,
      "outputs": [
        {
          "output_type": "stream",
          "name": "stdout",
          "text": [
            "WARNING:tensorflow:Layer lstm_24 will not use cuDNN kernels since it doesn't meet the criteria. It will use a generic GPU kernel as fallback when running on GPU.\n",
            "WARNING:tensorflow:Layer lstm_24 will not use cuDNN kernels since it doesn't meet the criteria. It will use a generic GPU kernel as fallback when running on GPU.\n",
            "WARNING:tensorflow:Layer lstm_24 will not use cuDNN kernels since it doesn't meet the criteria. It will use a generic GPU kernel as fallback when running on GPU.\n",
            "WARNING:tensorflow:Layer lstm_25 will not use cuDNN kernels since it doesn't meet the criteria. It will use a generic GPU kernel as fallback when running on GPU.\n",
            "Epoch 1/5\n",
            "37/37 [==============================] - 40s 936ms/step - loss: 1.0237 - accuracy: 0.4666 - val_loss: 0.9864 - val_accuracy: 0.5119\n",
            "Epoch 2/5\n",
            "37/37 [==============================] - 34s 911ms/step - loss: 0.9660 - accuracy: 0.5163 - val_loss: 0.9868 - val_accuracy: 0.4949\n",
            "Epoch 3/5\n",
            "37/37 [==============================] - 37s 1s/step - loss: 0.9226 - accuracy: 0.5522 - val_loss: 0.9615 - val_accuracy: 0.5119\n",
            "Epoch 4/5\n",
            "37/37 [==============================] - 37s 991ms/step - loss: 0.9147 - accuracy: 0.5565 - val_loss: 0.9498 - val_accuracy: 0.5256\n",
            "Epoch 5/5\n",
            "37/37 [==============================] - 34s 917ms/step - loss: 0.8908 - accuracy: 0.5599 - val_loss: 0.9567 - val_accuracy: 0.4949\n"
          ]
        },
        {
          "output_type": "execute_result",
          "data": {
            "text/plain": [
              "<keras.callbacks.History at 0x7f7ec94a2fd0>"
            ]
          },
          "metadata": {},
          "execution_count": 88
        }
      ]
    },
    {
      "cell_type": "code",
      "source": [
        "model.evaluate(X_test_padded, y_test)"
      ],
      "metadata": {
        "id": "zjeXdhrFDXI4",
        "colab": {
          "base_uri": "https://localhost:8080/"
        },
        "outputId": "283e1c87-77c0-4e6d-ed91-2676f4f41a08"
      },
      "execution_count": 89,
      "outputs": [
        {
          "output_type": "stream",
          "name": "stdout",
          "text": [
            "6/6 [==============================] - 0s 77ms/step - loss: 0.9227 - accuracy: 0.5399\n"
          ]
        },
        {
          "output_type": "execute_result",
          "data": {
            "text/plain": [
              "[0.9226740598678589, 0.5398772954940796]"
            ]
          },
          "metadata": {},
          "execution_count": 89
        }
      ]
    },
    {
      "cell_type": "markdown",
      "source": [
        "Unit Resnet"
      ],
      "metadata": {
        "id": "WJoRk1hJiogm"
      }
    },
    {
      "cell_type": "code",
      "source": [
        "\n",
        "# text_pad = pad_sequences(X_train, maxlen=32, padding='post')\n",
        "inputs1=layers.Input(X_train_padded.shape[1:])\n",
        "# X= layers.Embedding(max_words, 40, input_length=max_len, \n",
        "#                     embeddings_regularizer=keras.regularizers.l2(.001))(inputs1)\n",
        "\n",
        "X = embedding_layer(inputs1)\n",
        "X = ZeroPadding1D(padding=1)(X)\n",
        "X = Conv1D(64 , 7, strides = 2, name= \"Conv1\", kernel_initializer=glorot_uniform(seed=0))(X)\n",
        "X = Activation('relu')(X)\n",
        "X = BatchNormalization(axis=2)(X)  \n",
        "X = MaxPooling1D(3, strides = 2)(X)\n",
        "\n",
        "\n",
        "X_shortcut = X\n",
        "\n",
        "X = Bidirectional(LSTM(64,activation= 'tanh', dropout=0.3, recurrent_dropout=0.2, return_sequences=True ))(X)\n",
        "# X = layers.LSTM(64,activation= 'tanh', dropout=0.3, recurrent_dropout=0.2, return_sequences=True )(X)\n",
        "\n",
        "X = Conv1D(64, kernel_size = 1, strides = 1, padding='valid', name= \"Conv2_a1\", kernel_initializer=glorot_uniform(seed=0), kernel_regularizer=regularizers.L1(0.01))(X)\n",
        "X = BatchNormalization()(X)\n",
        "X = Activation('selu')(X)\n",
        "\n",
        "# X = Conv1D(64, kernel_size = 3, strides = 1, padding='same', name= \"Conv2_a2\", kernel_initializer=glorot_uniform(seed=0), kernel_regularizer=regularizers.L1(0.01))(X)\n",
        "# X = BatchNormalization()(X)\n",
        "# X = Activation('selu')(X)\n",
        "\n",
        "X = Conv1D(256, kernel_size = 1, strides = 1, padding='valid', name= \"Conv2_a3\", kernel_initializer=glorot_uniform(seed=0), kernel_regularizer=regularizers.L1(0.01))(X)\n",
        "X = BatchNormalization()(X)   \n",
        "\n",
        "X_shortcut = Conv1D(filters= 256, kernel_size=1, strides=1, padding='valid', name=\"Conv2_a\", kernel_initializer=glorot_uniform(seed=0))(X_shortcut)\n",
        "X_shortcut = BatchNormalization(axis= 2)(X_shortcut)\n",
        "\n",
        "X = Add()([X, X_shortcut]) # SKIP Connection\n",
        "X = Activation('selu')(X)\n",
        "\n",
        "X = AveragePooling1D(pool_size=1, padding='same')(X)\n",
        "       \n",
        "Unit_resnet = Model(inputs=inputs1, outputs=X, name='resnet')\n"
      ],
      "metadata": {
        "colab": {
          "base_uri": "https://localhost:8080/"
        },
        "id": "KfBNf8d9Cz9D",
        "outputId": "e29bd259-811f-40fe-a688-6cc0e502f9c1"
      },
      "execution_count": 90,
      "outputs": [
        {
          "output_type": "stream",
          "name": "stdout",
          "text": [
            "WARNING:tensorflow:Layer lstm_26 will not use cuDNN kernels since it doesn't meet the criteria. It will use a generic GPU kernel as fallback when running on GPU.\n",
            "WARNING:tensorflow:Layer lstm_26 will not use cuDNN kernels since it doesn't meet the criteria. It will use a generic GPU kernel as fallback when running on GPU.\n",
            "WARNING:tensorflow:Layer lstm_26 will not use cuDNN kernels since it doesn't meet the criteria. It will use a generic GPU kernel as fallback when running on GPU.\n"
          ]
        }
      ]
    },
    {
      "cell_type": "code",
      "source": [
        "model = Unit_resnet.output\n",
        "model = Flatten()(model)\n",
        "\n",
        "model = Dense(3, activation='softmax', name='fc3',kernel_initializer=glorot_uniform(seed=0), kernel_regularizer=regularizers.L1(0.01))(model)\n",
        "unit_Model = Model(inputs=Unit_resnet.input, outputs=model)"
      ],
      "metadata": {
        "id": "VVoQvVtXC0Hh"
      },
      "execution_count": 91,
      "outputs": []
    },
    {
      "cell_type": "code",
      "source": [
        "unit_Model.compile(optimizer='adam',\n",
        "    loss='categorical_crossentropy',\n",
        "    metrics=['accuracy']\n",
        ")\n",
        "\n",
        "unit_history = unit_Model.fit(\n",
        "    x=X_train_padded,\n",
        "    y=y_train,\n",
        "    epochs=5,\n",
        "    verbose=1,\n",
        "    validation_split = 0.20)"
      ],
      "metadata": {
        "colab": {
          "base_uri": "https://localhost:8080/"
        },
        "id": "lqIyrAFmC0J8",
        "outputId": "9d311cf9-c304-44dd-cc52-7bee96fb8caa"
      },
      "execution_count": 92,
      "outputs": [
        {
          "output_type": "stream",
          "name": "stdout",
          "text": [
            "Epoch 1/5\n",
            "37/37 [==============================] - 14s 182ms/step - loss: 21.6068 - accuracy: 0.4426 - val_loss: 19.0552 - val_accuracy: 0.3754\n",
            "Epoch 2/5\n",
            "37/37 [==============================] - 6s 162ms/step - loss: 16.9786 - accuracy: 0.6515 - val_loss: 15.3109 - val_accuracy: 0.4608\n",
            "Epoch 3/5\n",
            "37/37 [==============================] - 6s 161ms/step - loss: 13.0905 - accuracy: 0.7774 - val_loss: 11.7886 - val_accuracy: 0.4949\n",
            "Epoch 4/5\n",
            "37/37 [==============================] - 6s 161ms/step - loss: 9.6583 - accuracy: 0.8416 - val_loss: 8.7196 - val_accuracy: 0.5222\n",
            "Epoch 5/5\n",
            "37/37 [==============================] - 6s 162ms/step - loss: 6.7489 - accuracy: 0.9178 - val_loss: 6.3117 - val_accuracy: 0.4505\n"
          ]
        }
      ]
    },
    {
      "cell_type": "code",
      "source": [
        "unit_Model.evaluate(X_test_padded, y_test)"
      ],
      "metadata": {
        "colab": {
          "base_uri": "https://localhost:8080/"
        },
        "id": "a7wdw3SyY3Yj",
        "outputId": "68c3c290-48fc-40ef-ca10-2323a8a10b83"
      },
      "execution_count": 93,
      "outputs": [
        {
          "output_type": "stream",
          "name": "stdout",
          "text": [
            "6/6 [==============================] - 0s 22ms/step - loss: 6.2111 - accuracy: 0.5399\n"
          ]
        },
        {
          "output_type": "execute_result",
          "data": {
            "text/plain": [
              "[6.211124897003174, 0.5398772954940796]"
            ]
          },
          "metadata": {},
          "execution_count": 93
        }
      ]
    },
    {
      "cell_type": "markdown",
      "source": [
        "Best model\n",
        " "
      ],
      "metadata": {
        "id": "LSZp6RX2cE5Z"
      }
    },
    {
      "cell_type": "markdown",
      "source": [
        "![image.png](data:image/png;base64,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)"
      ],
      "metadata": {
        "id": "e1t4PO43VjSm"
      }
    },
    {
      "cell_type": "code",
      "source": [
        "# exponential_decay_fn\n",
        "import math \n",
        "def lr_exp_decay(epoch):\n",
        "  initial_lr = 0.001\n",
        "  drop_rate = 0.01\n",
        "  epochs_drop = 5\n",
        "  return initial_lr * math.pow(drop_rate, math.floor(epoch/epochs_drop))\n"
      ],
      "metadata": {
        "id": "xG82nIfmr6ry"
      },
      "execution_count": 173,
      "outputs": []
    },
    {
      "cell_type": "code",
      "source": [
        "sequence_input = Input(shape=(max_length,))\n",
        "x = layers.Embedding(len(word_index), 64, input_length=max_length, \n",
        "                    embeddings_regularizer=keras.regularizers.l2(.001))(sequence_input)\n",
        "x = LSTM(64,activation= 'tanh', dropout=0.3, recurrent_dropout=0.2, return_sequences=True)(x) \n",
        "x = Conv1D(64, 5, activation='tanh')(x)\n",
        "x = MaxPooling1D()(x)\n",
        "\n",
        "x = Flatten()(x)\n",
        "x = Dense(70, activation='tanh')(x)\n",
        "preds = Dense(3, activation='softmax')(x)\n",
        "\n",
        "model2 = Model(sequence_input, preds)\n",
        "\n",
        "\n",
        "checkpoint_cb = keras.callbacks.ModelCheckpoint( \"Model\" + \"_{epoch:02d}.hdf5\", save_best_only=False) # By default saves the model at the end of each Epoch\n",
        "checkpoint = keras.callbacks.ModelCheckpoint( \"Model_2.h5\" , monitor='val_acc', verbose=1, save_best_only=False)\n",
        "early_stopping_cb = keras.callbacks.EarlyStopping(patience=4, restore_best_weights=True)\n",
        "\n",
        "model2.summary()\n",
        "\n",
        "# model2.compile(optimizer = \"rmsprop\",\n",
        "#               loss='categorical_crossentropy',\n",
        "#               # optimizer='rmsprop',\n",
        "#               metrics=['accuracy'])\n",
        "\n",
        "# # happy learning!\n",
        "# history = model2.fit(X_train_padded,\n",
        "#            y_train, \n",
        "#            validation_split = 0.20,\n",
        "#            callbacks = [checkpoint, checkpoint_cb,\n",
        "#                         tf.keras.callbacks.LearningRateScheduler(lr_exp_decay, verbose=1)],\n",
        "#            epochs=5)\n"
      ],
      "metadata": {
        "id": "ilJ0FwV4BAbo",
        "colab": {
          "base_uri": "https://localhost:8080/"
        },
        "outputId": "40bce6f8-dab7-4329-ba7b-6a7080cd7996"
      },
      "execution_count": 31,
      "outputs": [
        {
          "output_type": "stream",
          "name": "stdout",
          "text": [
            "WARNING:tensorflow:Layer lstm will not use cuDNN kernels since it doesn't meet the criteria. It will use a generic GPU kernel as fallback when running on GPU.\n",
            "Model: \"model\"\n",
            "_________________________________________________________________\n",
            " Layer (type)                Output Shape              Param #   \n",
            "=================================================================\n",
            " input_1 (InputLayer)        [(None, 100)]             0         \n",
            "                                                                 \n",
            " embedding_1 (Embedding)     (None, 100, 64)           414528    \n",
            "                                                                 \n",
            " lstm (LSTM)                 (None, 100, 64)           33024     \n",
            "                                                                 \n",
            " conv1d (Conv1D)             (None, 96, 64)            20544     \n",
            "                                                                 \n",
            " max_pooling1d (MaxPooling1D  (None, 48, 64)           0         \n",
            " )                                                               \n",
            "                                                                 \n",
            " flatten (Flatten)           (None, 3072)              0         \n",
            "                                                                 \n",
            " dense (Dense)               (None, 70)                215110    \n",
            "                                                                 \n",
            " dense_1 (Dense)             (None, 3)                 213       \n",
            "                                                                 \n",
            "=================================================================\n",
            "Total params: 683,419\n",
            "Trainable params: 683,419\n",
            "Non-trainable params: 0\n",
            "_________________________________________________________________\n"
          ]
        }
      ]
    },
    {
      "cell_type": "code",
      "source": [
        "# Model_output = pd.DataFrame(history.history)\n",
        "# Model_output\n",
        "# plt.figure\n",
        "# sns.lineplot(data=Model_output, x= Model_output.index , y=\"accuracy\", label = \"Train Accuracy\").set(title='Epoch vs Accuracy')\n",
        "# sns.lineplot(data=Model_output, x= Model_output.index, y=\"val_accuracy\", label = \"Validation Accuracy\", palette=['y'])\n"
      ],
      "metadata": {
        "id": "Dt_mSeyh6KLM"
      },
      "execution_count": 321,
      "outputs": []
    },
    {
      "cell_type": "code",
      "source": [
        "# model.save(\"best_Model3.h5\")\n",
        "\n",
        "model = keras.models.load_model(\"Best_Model1.h5\")\n"
      ],
      "metadata": {
        "colab": {
          "base_uri": "https://localhost:8080/"
        },
        "id": "87T1dxlk5atR",
        "outputId": "78d9cd26-cd6a-4468-e9c6-dd95da005dfa"
      },
      "execution_count": 20,
      "outputs": [
        {
          "output_type": "stream",
          "name": "stdout",
          "text": [
            "WARNING:tensorflow:Layer lstm_161 will not use cuDNN kernels since it doesn't meet the criteria. It will use a generic GPU kernel as fallback when running on GPU.\n"
          ]
        }
      ]
    },
    {
      "cell_type": "code",
      "source": [
        "(model.evaluate(X_test_padded, y_test), model.evaluate(X_train_padded, y_train))"
      ],
      "metadata": {
        "colab": {
          "base_uri": "https://localhost:8080/"
        },
        "id": "KeOcY6zA5iu8",
        "outputId": "db48379c-73d2-4176-e53a-c172664b6b9a"
      },
      "execution_count": 38,
      "outputs": [
        {
          "output_type": "stream",
          "name": "stdout",
          "text": [
            "6/6 [==============================] - 10s 39ms/step - loss: 1.3170 - accuracy: 0.5951\n",
            "46/46 [==============================] - 2s 33ms/step - loss: 0.5130 - accuracy: 0.8296\n"
          ]
        },
        {
          "output_type": "execute_result",
          "data": {
            "text/plain": [
              "([1.3169853687286377, 0.5950919985771179],\n",
              " [0.5130017399787903, 0.8295688033103943])"
            ]
          },
          "metadata": {},
          "execution_count": 38
        }
      ]
    },
    {
      "cell_type": "code",
      "source": [
        "model.summary()"
      ],
      "metadata": {
        "colab": {
          "base_uri": "https://localhost:8080/"
        },
        "id": "_8lBRWj3wvo1",
        "outputId": "edc39014-92c7-46c5-c4f5-2dcf3a08ce05"
      },
      "execution_count": 39,
      "outputs": [
        {
          "output_type": "stream",
          "name": "stdout",
          "text": [
            "Model: \"model_107\"\n",
            "_________________________________________________________________\n",
            " Layer (type)                Output Shape              Param #   \n",
            "=================================================================\n",
            " input_113 (InputLayer)      [(None, 100)]             0         \n",
            "                                                                 \n",
            " embedding_98 (Embedding)    (None, 100, 64)           414528    \n",
            "                                                                 \n",
            " lstm_161 (LSTM)             (None, 100, 64)           33024     \n",
            "                                                                 \n",
            " conv1d_114 (Conv1D)         (None, 96, 64)            20544     \n",
            "                                                                 \n",
            " max_pooling1d_112 (MaxPooli  (None, 48, 64)           0         \n",
            " ng1D)                                                           \n",
            "                                                                 \n",
            " flatten_141 (Flatten)       (None, 3072)              0         \n",
            "                                                                 \n",
            " dense_293 (Dense)           (None, 70)                215110    \n",
            "                                                                 \n",
            " dense_294 (Dense)           (None, 3)                 213       \n",
            "                                                                 \n",
            "=================================================================\n",
            "Total params: 683,419\n",
            "Trainable params: 683,419\n",
            "Non-trainable params: 0\n",
            "_________________________________________________________________\n"
          ]
        }
      ]
    },
    {
      "cell_type": "code",
      "source": [
        "# model = keras.models.load_model(\"Model_04.hdf5\")\n",
        "# model.save(\"Model_.h5\")"
      ],
      "metadata": {
        "id": "yqL_01XWF1NH"
      },
      "execution_count": 40,
      "outputs": []
    },
    {
      "cell_type": "code",
      "source": [
        "# model = keras.models.load_model(\"best_Model2.h5\")\n",
        "print(model.evaluate(X_test_padded, y_test))\n",
        "print(\"Train + validation\", model.evaluate(X_train_padded, y_train))\n",
        "print(\"Train Accuracy:\", 84)"
      ],
      "metadata": {
        "colab": {
          "base_uri": "https://localhost:8080/"
        },
        "id": "rJeJgYgof39D",
        "outputId": "8224c1ed-d4ef-4ee9-d210-8861420b1631"
      },
      "execution_count": 41,
      "outputs": [
        {
          "output_type": "stream",
          "name": "stdout",
          "text": [
            "6/6 [==============================] - 0s 33ms/step - loss: 1.3170 - accuracy: 0.5951\n",
            "[1.3169853687286377, 0.5950919985771179]\n",
            "46/46 [==============================] - 2s 34ms/step - loss: 0.5130 - accuracy: 0.8296\n",
            "Train + validation [0.5130017399787903, 0.8295688033103943]\n",
            "Train Accuracy: 84\n"
          ]
        }
      ]
    },
    {
      "cell_type": "code",
      "source": [
        "test_loss, test_acc = model.evaluate(X_test_padded, y_test, verbose=2)\n",
        "print('Model accuracy: ', round(test_acc*100, 0))\n",
        "predictions = model.predict(X_test_padded)"
      ],
      "metadata": {
        "colab": {
          "base_uri": "https://localhost:8080/"
        },
        "outputId": "1d1e79dd-0b1f-49f2-d971-126e1fe104dd",
        "id": "BhzeIcUzOccb"
      },
      "execution_count": 42,
      "outputs": [
        {
          "output_type": "stream",
          "name": "stdout",
          "text": [
            "6/6 - 0s - loss: 1.3170 - accuracy: 0.5951 - 206ms/epoch - 34ms/step\n",
            "Model accuracy:  60.0\n"
          ]
        }
      ]
    },
    {
      "cell_type": "code",
      "source": [
        "from sklearn.metrics import confusion_matrix\n",
        "matrix = confusion_matrix(y_test.argmax(axis=1), np.around(predictions, decimals=0).argmax(axis=1))"
      ],
      "metadata": {
        "id": "Q5EHrbprOccc"
      },
      "execution_count": 43,
      "outputs": []
    },
    {
      "cell_type": "code",
      "source": [
        "import seaborn as sns\n",
        "conf_matrix = pd.DataFrame(matrix, index = ['Neutral','Negative','Positive'],columns = ['Neutral','Negative','Positive'])\n",
        "#Normalizing\n",
        "conf_matrix = conf_matrix.astype('float') / conf_matrix.sum(axis=1)[:, np.newaxis]\n",
        "plt.figure(figsize = (15,15))\n",
        "sns.heatmap(conf_matrix, annot=True, annot_kws={\"size\": 15})\n",
        "plt.ylabel(\"Predicted Class\", fontsize=18)\n",
        "plt.xlabel(\"True Class\", fontsize=18)"
      ],
      "metadata": {
        "colab": {
          "base_uri": "https://localhost:8080/",
          "height": 958
        },
        "outputId": "b8a04bc7-b8df-4e50-f49c-ce3c142923c9",
        "id": "EQPFKP01Occc"
      },
      "execution_count": 44,
      "outputs": [
        {
          "output_type": "stream",
          "name": "stderr",
          "text": [
            "/usr/local/lib/python3.7/dist-packages/ipykernel_launcher.py:4: FutureWarning: Support for multi-dimensional indexing (e.g. `obj[:, None]`) is deprecated and will be removed in a future version.  Convert to a numpy array before indexing instead.\n",
            "  after removing the cwd from sys.path.\n"
          ]
        },
        {
          "output_type": "execute_result",
          "data": {
            "text/plain": [
              "Text(0.5, 114.0, 'True Class')"
            ]
          },
          "metadata": {},
          "execution_count": 44
        },
        {
          "output_type": "display_data",
          "data": {
            "text/plain": [
              "<Figure size 1080x1080 with 2 Axes>"
            ],
            "image/png": "[encoded data removed]"
          },
          "metadata": {
            "needs_background": "light"
          }
        }
      ]
    },
    {
      "cell_type": "code",
      "source": [
        "from sklearn.metrics import f1_score, precision_recall_fscore_support, precision_score, recall_score\n",
        "\n",
        "print(\"F_1Score\", f1_score(y_test.argmax(axis=1), np.around(predictions, decimals=0).argmax(axis=1), average=None)) \n",
        "print(\"Precision\", precision_score(y_test.argmax(axis=1), np.around(predictions, decimals=0).argmax(axis=1), average=None)) \n",
        "print(\"Recall\", recall_score(y_test.argmax(axis=1), np.around(predictions, decimals=0).argmax(axis=1), average=None)) \n"
      ],
      "metadata": {
        "colab": {
          "base_uri": "https://localhost:8080/"
        },
        "id": "S0pYB6Y18W8w",
        "outputId": "8156bc6c-cb3f-4467-d159-1d355693c3fe"
      },
      "execution_count": 65,
      "outputs": [
        {
          "output_type": "stream",
          "name": "stdout",
          "text": [
            "F1Score [0.68062827 0.51685393 0.39130435]\n",
            "Precision [0.56034483 0.65714286 0.75      ]\n",
            "Recall [0.86666667 0.42592593 0.26470588]\n"
          ]
        }
      ]
    },
    {
      "cell_type": "markdown",
      "source": [
        "Another averaging method, macro, take the average of each class’s F-1 score:"
      ],
      "metadata": {
        "id": "zEz_IKx5QRg2"
      }
    },
    {
      "cell_type": "code",
      "source": [
        "print(\"F1Score:\", f1_score(y_test.argmax(axis=1), np.around(predictions, decimals=0).argmax(axis=1), average=\"macro\")) \n",
        "print(\"Precision:\", precision_score(y_test.argmax(axis=1), np.around(predictions, decimals=0).argmax(axis=1), average=\"macro\")) \n",
        "print(\"Recall:\", recall_score(y_test.argmax(axis=1), np.around(predictions, decimals=0).argmax(axis=1), average=\"macro\")) \n"
      ],
      "metadata": {
        "colab": {
          "base_uri": "https://localhost:8080/"
        },
        "id": "d_ejMDKPQZN-",
        "outputId": "e7477095-00c2-4c5f-83aa-a4b672b0d6a0"
      },
      "execution_count": 62,
      "outputs": [
        {
          "output_type": "stream",
          "name": "stdout",
          "text": [
            "F1Score 0.5295955175538886\n",
            "Precision 0.6558292282430213\n",
            "Recall 0.5190994916485113\n"
          ]
        }
      ]
    },
    {
      "cell_type": "markdown",
      "source": [
        "micro calculates positive and negative values globally:"
      ],
      "metadata": {
        "id": "8D-mZB2lQigq"
      }
    },
    {
      "cell_type": "code",
      "source": [
        "print(\"F1Score:\", f1_score(y_test.argmax(axis=1), np.around(predictions, decimals=0).argmax(axis=1), average=\"micro\")) \n",
        "print(\"Precision:\", precision_score(y_test.argmax(axis=1), np.around(predictions, decimals=0).argmax(axis=1), average=\"micro\")) \n",
        "print(\"Recall:\", recall_score(y_test.argmax(axis=1), np.around(predictions, decimals=0).argmax(axis=1), average=\"micro\")) \n"
      ],
      "metadata": {
        "colab": {
          "base_uri": "https://localhost:8080/"
        },
        "id": "LvS_YlklOMiI",
        "outputId": "16f221e1-c91c-4d9d-ca9a-046b697cb77e"
      },
      "execution_count": 63,
      "outputs": [
        {
          "output_type": "stream",
          "name": "stdout",
          "text": [
            "F1Score 0.5950920245398773\n",
            "Precision 0.5950920245398773\n",
            "Recall 0.5950920245398773\n"
          ]
        }
      ]
    },
    {
      "cell_type": "markdown",
      "source": [
        "The third parameter we’ll consider in this tutorial is weighted. The class F-1 scores are averaged by using the number of instances in a class as weights::"
      ],
      "metadata": {
        "id": "zLr9VYHRQP8c"
      }
    },
    {
      "cell_type": "code",
      "source": [
        "print(\"F1Score:\", f1_score(y_test.argmax(axis=1), np.around(predictions, decimals=0).argmax(axis=1), average=\"weighted\")) \n",
        "print(\"Precision:\", precision_score(y_test.argmax(axis=1), np.around(predictions, decimals=0).argmax(axis=1), average=\"weighted\")) \n",
        "print(\"Recall:\", recall_score(y_test.argmax(axis=1), np.around(predictions, decimals=0).argmax(axis=1), average=\"weighted\")) \n"
      ],
      "metadata": {
        "colab": {
          "base_uri": "https://localhost:8080/"
        },
        "id": "hfMm3PG-OMkg",
        "outputId": "204ac5b1-1701-4973-8834-f551b6c7a50c"
      },
      "execution_count": 64,
      "outputs": [
        {
          "output_type": "stream",
          "name": "stdout",
          "text": [
            "F1Score 0.5660219668986852\n",
            "Precision 0.6319728610716553\n",
            "Recall 0.5950920245398773\n"
          ]
        }
      ]
    }
  ],
  "metadata": {
    "accelerator": "GPU",
    "colab": {
      "collapsed_sections": [],
      "machine_shape": "hm",
      "name": "2. CS767_Project_NLP_Final.ipynb",
      "provenance": []
    },
    "kernelspec": {
      "display_name": "Python 3",
      "name": "python3"
    },
    "language_info": {
      "name": "python"
    }
  },
  "nbformat": 4,
  "nbformat_minor": 0
}